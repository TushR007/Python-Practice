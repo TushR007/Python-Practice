{
 "cells": [
  {
   "cell_type": "code",
   "execution_count": null,
   "id": "5843b959",
   "metadata": {},
   "outputs": [],
   "source": [
    "1+1"
   ]
  },
  {
   "cell_type": "code",
   "execution_count": null,
   "id": "dc61d767",
   "metadata": {},
   "outputs": [],
   "source": [
    "print('hello')"
   ]
  },
  {
   "cell_type": "code",
   "execution_count": null,
   "id": "65e8d7e5",
   "metadata": {},
   "outputs": [],
   "source": [
    "a = 5"
   ]
  },
  {
   "cell_type": "code",
   "execution_count": null,
   "id": "0fd3af6c",
   "metadata": {},
   "outputs": [],
   "source": [
    "a"
   ]
  },
  {
   "cell_type": "code",
   "execution_count": null,
   "id": "72f05745",
   "metadata": {},
   "outputs": [],
   "source": [
    "type(a)"
   ]
  },
  {
   "cell_type": "code",
   "execution_count": null,
   "id": "3df4819d",
   "metadata": {},
   "outputs": [],
   "source": [
    "a = 3.5"
   ]
  },
  {
   "cell_type": "code",
   "execution_count": null,
   "id": "04e50e8a",
   "metadata": {},
   "outputs": [],
   "source": [
    "type(a)"
   ]
  },
  {
   "cell_type": "code",
   "execution_count": null,
   "id": "8c6896d8",
   "metadata": {},
   "outputs": [],
   "source": [
    "print(\"Hello \\n Wassup\")"
   ]
  },
  {
   "cell_type": "code",
   "execution_count": null,
   "id": "98986dd9",
   "metadata": {},
   "outputs": [],
   "source": [
    "len('hi')"
   ]
  },
  {
   "cell_type": "code",
   "execution_count": null,
   "id": "57c0fbcd",
   "metadata": {},
   "outputs": [],
   "source": [
    "mystring = \"hello world\""
   ]
  },
  {
   "cell_type": "code",
   "execution_count": null,
   "id": "6aa3142c",
   "metadata": {},
   "outputs": [],
   "source": [
    "mystring[0]"
   ]
  },
  {
   "cell_type": "code",
   "execution_count": null,
   "id": "de27bdb5",
   "metadata": {},
   "outputs": [],
   "source": [
    "mystring[-1]"
   ]
  },
  {
   "cell_type": "code",
   "execution_count": null,
   "id": "ee238c1c",
   "metadata": {},
   "outputs": [],
   "source": [
    "mystr = 'abcdefghijk'"
   ]
  },
  {
   "cell_type": "code",
   "execution_count": null,
   "id": "924b4fd8",
   "metadata": {},
   "outputs": [],
   "source": [
    "mystr[3:]"
   ]
  },
  {
   "cell_type": "code",
   "execution_count": null,
   "id": "2240c76f",
   "metadata": {},
   "outputs": [],
   "source": [
    "mystr[:3]"
   ]
  },
  {
   "cell_type": "code",
   "execution_count": null,
   "id": "30317351",
   "metadata": {},
   "outputs": [],
   "source": [
    "mystr[1:6]"
   ]
  },
  {
   "cell_type": "code",
   "execution_count": null,
   "id": "b187a029",
   "metadata": {},
   "outputs": [],
   "source": [
    "mystr[::2]"
   ]
  },
  {
   "cell_type": "code",
   "execution_count": null,
   "id": "84629585",
   "metadata": {},
   "outputs": [],
   "source": [
    "mystr[::-1]#reverse a string"
   ]
  },
  {
   "cell_type": "markdown",
   "id": "3b3dfce0",
   "metadata": {},
   "source": [
    "Strings are Immutable"
   ]
  },
  {
   "cell_type": "code",
   "execution_count": null,
   "id": "126dfb27",
   "metadata": {},
   "outputs": [],
   "source": [
    "n = 'spam'"
   ]
  },
  {
   "cell_type": "code",
   "execution_count": null,
   "id": "d6e178da",
   "metadata": {},
   "outputs": [],
   "source": [
    "last_letters = n[1:]"
   ]
  },
  {
   "cell_type": "code",
   "execution_count": null,
   "id": "9c4d4dff",
   "metadata": {},
   "outputs": [],
   "source": [
    "last_letters"
   ]
  },
  {
   "cell_type": "code",
   "execution_count": null,
   "id": "32ceba66",
   "metadata": {},
   "outputs": [],
   "source": [
    "'s' + last_letters"
   ]
  },
  {
   "cell_type": "code",
   "execution_count": null,
   "id": "75d73fc6",
   "metadata": {},
   "outputs": [],
   "source": [
    "letter = 't'"
   ]
  },
  {
   "cell_type": "code",
   "execution_count": null,
   "id": "1c6a84ee",
   "metadata": {},
   "outputs": [],
   "source": [
    "letter*10"
   ]
  },
  {
   "cell_type": "code",
   "execution_count": null,
   "id": "a5e00146",
   "metadata": {},
   "outputs": [],
   "source": [
    "mystring.upper()"
   ]
  },
  {
   "cell_type": "code",
   "execution_count": null,
   "id": "7f86ed1f",
   "metadata": {},
   "outputs": [],
   "source": [
    "mystring.split()"
   ]
  },
  {
   "cell_type": "code",
   "execution_count": null,
   "id": "1d5ab793",
   "metadata": {},
   "outputs": [],
   "source": [
    "mystring.split('o')"
   ]
  },
  {
   "cell_type": "code",
   "execution_count": null,
   "id": "f951ea91",
   "metadata": {},
   "outputs": [],
   "source": [
    "mystring.split(' ')"
   ]
  },
  {
   "cell_type": "code",
   "execution_count": null,
   "id": "734b441d",
   "metadata": {},
   "outputs": [],
   "source": [
    "print(mystring + ' wassup')"
   ]
  },
  {
   "cell_type": "code",
   "execution_count": null,
   "id": "7c077e21",
   "metadata": {},
   "outputs": [],
   "source": [
    "print('The {} {} {}'.format('brown','fox','quick'))"
   ]
  },
  {
   "cell_type": "code",
   "execution_count": null,
   "id": "7de11a0e",
   "metadata": {},
   "outputs": [],
   "source": [
    "print('The {2} {0} {1}'.format('brown','fox','quick'))"
   ]
  },
  {
   "cell_type": "code",
   "execution_count": null,
   "id": "456c30a0",
   "metadata": {},
   "outputs": [],
   "source": [
    "print('The {q} {b} {f}'.format(b='brown',f='fox',q='quick'))"
   ]
  },
  {
   "cell_type": "code",
   "execution_count": null,
   "id": "20b598d8",
   "metadata": {},
   "outputs": [],
   "source": [
    "result = 100/777"
   ]
  },
  {
   "cell_type": "code",
   "execution_count": null,
   "id": "82b9274f",
   "metadata": {},
   "outputs": [],
   "source": [
    "result"
   ]
  },
  {
   "cell_type": "code",
   "execution_count": null,
   "id": "c464585a",
   "metadata": {},
   "outputs": [],
   "source": [
    "print('the result is {r:1.3f}'.format(r=result))"
   ]
  },
  {
   "cell_type": "code",
   "execution_count": null,
   "id": "0bb546d9",
   "metadata": {},
   "outputs": [],
   "source": [
    "print(f'the string is {n}')"
   ]
  },
  {
   "cell_type": "code",
   "execution_count": null,
   "id": "dbfea21a",
   "metadata": {},
   "outputs": [],
   "source": [
    "print(f'the result is {result}')"
   ]
  },
  {
   "cell_type": "code",
   "execution_count": null,
   "id": "1aa296bb",
   "metadata": {},
   "outputs": [],
   "source": [
    "mylist = ['one','two','three']"
   ]
  },
  {
   "cell_type": "code",
   "execution_count": null,
   "id": "433f4a85",
   "metadata": {},
   "outputs": [],
   "source": [
    "len(mylist)"
   ]
  },
  {
   "cell_type": "code",
   "execution_count": null,
   "id": "188c8736",
   "metadata": {},
   "outputs": [],
   "source": [
    "mylist[0]"
   ]
  },
  {
   "cell_type": "code",
   "execution_count": null,
   "id": "0c3ed728",
   "metadata": {},
   "outputs": [],
   "source": [
    "mylist[0:4:2]"
   ]
  },
  {
   "cell_type": "code",
   "execution_count": null,
   "id": "6f182b81",
   "metadata": {},
   "outputs": [],
   "source": [
    "yourlist = ['four','five','six']"
   ]
  },
  {
   "cell_type": "code",
   "execution_count": null,
   "id": "510ce73c",
   "metadata": {},
   "outputs": [],
   "source": [
    "mylist + yourlist"
   ]
  },
  {
   "cell_type": "markdown",
   "id": "d0bd067f",
   "metadata": {},
   "source": [
    "lists are mutable"
   ]
  },
  {
   "cell_type": "code",
   "execution_count": null,
   "id": "062290ec",
   "metadata": {},
   "outputs": [],
   "source": [
    "mylist[0] = 'ONE'"
   ]
  },
  {
   "cell_type": "code",
   "execution_count": null,
   "id": "33f8216b",
   "metadata": {},
   "outputs": [],
   "source": [
    "mylist"
   ]
  },
  {
   "cell_type": "code",
   "execution_count": null,
   "id": "579e120c",
   "metadata": {},
   "outputs": [],
   "source": [
    "mylist.append('seven')"
   ]
  },
  {
   "cell_type": "code",
   "execution_count": null,
   "id": "4b4af993",
   "metadata": {},
   "outputs": [],
   "source": [
    "mylist.pop()"
   ]
  },
  {
   "cell_type": "code",
   "execution_count": null,
   "id": "ad8d69b4",
   "metadata": {},
   "outputs": [],
   "source": [
    "mylist.pop(0)"
   ]
  },
  {
   "cell_type": "code",
   "execution_count": null,
   "id": "45e56751",
   "metadata": {},
   "outputs": [],
   "source": [
    "str_list = ['a','b','x','q','r']"
   ]
  },
  {
   "cell_type": "code",
   "execution_count": null,
   "id": "ab372ec3",
   "metadata": {},
   "outputs": [],
   "source": [
    "num_list = [5,3,6,9,1]"
   ]
  },
  {
   "cell_type": "code",
   "execution_count": null,
   "id": "b9ac5899",
   "metadata": {},
   "outputs": [],
   "source": [
    "str_list.sort()"
   ]
  },
  {
   "cell_type": "code",
   "execution_count": null,
   "id": "2ec6f74b",
   "metadata": {},
   "outputs": [],
   "source": [
    "str_list"
   ]
  },
  {
   "cell_type": "code",
   "execution_count": null,
   "id": "88532262",
   "metadata": {},
   "outputs": [],
   "source": [
    " num_list.sort()"
   ]
  },
  {
   "cell_type": "code",
   "execution_count": null,
   "id": "c55292bb",
   "metadata": {},
   "outputs": [],
   "source": [
    "num_list"
   ]
  },
  {
   "cell_type": "code",
   "execution_count": null,
   "id": "f198078c",
   "metadata": {},
   "outputs": [],
   "source": [
    "num_list.reverse()"
   ]
  },
  {
   "cell_type": "code",
   "execution_count": null,
   "id": "2f75ff85",
   "metadata": {},
   "outputs": [],
   "source": [
    "num_list"
   ]
  },
  {
   "cell_type": "code",
   "execution_count": null,
   "id": "e82b4e28",
   "metadata": {},
   "outputs": [],
   "source": [
    "mydict = {'key 1':'value','key 2':'value2'}"
   ]
  },
  {
   "cell_type": "code",
   "execution_count": null,
   "id": "5f21b64a",
   "metadata": {},
   "outputs": [],
   "source": [
    "mydict"
   ]
  },
  {
   "cell_type": "code",
   "execution_count": null,
   "id": "25373938",
   "metadata": {},
   "outputs": [],
   "source": [
    "prices = {'mango':100,'orange':60,'banana':40}"
   ]
  },
  {
   "cell_type": "code",
   "execution_count": null,
   "id": "a7baea1b",
   "metadata": {},
   "outputs": [],
   "source": [
    "prices['mango']"
   ]
  },
  {
   "cell_type": "code",
   "execution_count": null,
   "id": "fc484804",
   "metadata": {},
   "outputs": [],
   "source": [
    "d1 = {'key1':[1,3,5,7],'key2':{'insidekey':'hello'}}"
   ]
  },
  {
   "cell_type": "code",
   "execution_count": null,
   "id": "4456cc48",
   "metadata": {},
   "outputs": [],
   "source": [
    "d1['key1'][2]"
   ]
  },
  {
   "cell_type": "code",
   "execution_count": null,
   "id": "5b52486e",
   "metadata": {},
   "outputs": [],
   "source": [
    "d1['key2']['insidekey']"
   ]
  },
  {
   "cell_type": "code",
   "execution_count": null,
   "id": "32427f90",
   "metadata": {},
   "outputs": [],
   "source": [
    "myl = d1['key2']['insidekey']"
   ]
  },
  {
   "cell_type": "code",
   "execution_count": null,
   "id": "9b91fffc",
   "metadata": {},
   "outputs": [],
   "source": [
    "myl.upper()"
   ]
  },
  {
   "cell_type": "code",
   "execution_count": null,
   "id": "db0154c9",
   "metadata": {},
   "outputs": [],
   "source": [
    "myl"
   ]
  },
  {
   "cell_type": "code",
   "execution_count": null,
   "id": "6b61cdc5",
   "metadata": {},
   "outputs": [],
   "source": [
    "d1['key3'] = 50"
   ]
  },
  {
   "cell_type": "code",
   "execution_count": null,
   "id": "1a13eea9",
   "metadata": {},
   "outputs": [],
   "source": [
    "d1"
   ]
  },
  {
   "cell_type": "code",
   "execution_count": null,
   "id": "a40a9b0b",
   "metadata": {},
   "outputs": [],
   "source": [
    "d1['key1'] = 'new val'"
   ]
  },
  {
   "cell_type": "code",
   "execution_count": null,
   "id": "26079ae1",
   "metadata": {},
   "outputs": [],
   "source": [
    "d1.keys()"
   ]
  },
  {
   "cell_type": "code",
   "execution_count": null,
   "id": "c2bf384a",
   "metadata": {},
   "outputs": [],
   "source": [
    "d1.values()"
   ]
  },
  {
   "cell_type": "code",
   "execution_count": null,
   "id": "f2f0b7f7",
   "metadata": {},
   "outputs": [],
   "source": [
    "d1.items()"
   ]
  },
  {
   "cell_type": "code",
   "execution_count": null,
   "id": "81c82a88",
   "metadata": {},
   "outputs": [],
   "source": [
    "t = (1,2,3)"
   ]
  },
  {
   "cell_type": "code",
   "execution_count": null,
   "id": "f49f3738",
   "metadata": {},
   "outputs": [],
   "source": [
    "len(t)"
   ]
  },
  {
   "cell_type": "code",
   "execution_count": null,
   "id": "1d033ef3",
   "metadata": {},
   "outputs": [],
   "source": [
    "t[1]"
   ]
  },
  {
   "cell_type": "code",
   "execution_count": null,
   "id": "dc4b0e43",
   "metadata": {},
   "outputs": [],
   "source": [
    "t = ('a','a','b')"
   ]
  },
  {
   "cell_type": "code",
   "execution_count": null,
   "id": "1f675fb1",
   "metadata": {},
   "outputs": [],
   "source": [
    "t.count('a')"
   ]
  },
  {
   "cell_type": "code",
   "execution_count": null,
   "id": "45cfe680",
   "metadata": {},
   "outputs": [],
   "source": [
    "t.index('a')"
   ]
  },
  {
   "cell_type": "code",
   "execution_count": null,
   "id": "abb63521",
   "metadata": {},
   "outputs": [],
   "source": [
    "t[1] = 'x'  #tuples are immutable like strings and unlike lists "
   ]
  },
  {
   "cell_type": "code",
   "execution_count": null,
   "id": "774c7b07",
   "metadata": {},
   "outputs": [],
   "source": [
    "mys = set()"
   ]
  },
  {
   "cell_type": "code",
   "execution_count": null,
   "id": "e0d04ffd",
   "metadata": {},
   "outputs": [],
   "source": [
    "mys.add(1)"
   ]
  },
  {
   "cell_type": "code",
   "execution_count": null,
   "id": "c8b914ef",
   "metadata": {},
   "outputs": [],
   "source": [
    "mys.add(2)"
   ]
  },
  {
   "cell_type": "code",
   "execution_count": null,
   "id": "68a85384",
   "metadata": {},
   "outputs": [],
   "source": [
    "mys.add(2)"
   ]
  },
  {
   "cell_type": "code",
   "execution_count": null,
   "id": "063a7ca5",
   "metadata": {},
   "outputs": [],
   "source": [
    "mys    #Unique elements only"
   ]
  },
  {
   "cell_type": "code",
   "execution_count": null,
   "id": "b00c9851",
   "metadata": {},
   "outputs": [],
   "source": [
    "myl = [1,1,1,2,2,3,3,4]"
   ]
  },
  {
   "cell_type": "code",
   "execution_count": null,
   "id": "746e8e2f",
   "metadata": {},
   "outputs": [],
   "source": [
    "set(myl)"
   ]
  },
  {
   "cell_type": "code",
   "execution_count": null,
   "id": "66e957b5",
   "metadata": {},
   "outputs": [],
   "source": [
    "type(False)"
   ]
  },
  {
   "cell_type": "code",
   "execution_count": null,
   "id": "e0f93c9a",
   "metadata": {},
   "outputs": [],
   "source": [
    "b = None"
   ]
  },
  {
   "cell_type": "code",
   "execution_count": null,
   "id": "b57c7641",
   "metadata": {},
   "outputs": [],
   "source": [
    "%%writefile myfile.txt\n",
    "This is a first line\n",
    "Second line\n",
    "third"
   ]
  },
  {
   "cell_type": "code",
   "execution_count": null,
   "id": "8b7a9a6a",
   "metadata": {},
   "outputs": [],
   "source": [
    "myfile = open('myfile.txt')"
   ]
  },
  {
   "cell_type": "code",
   "execution_count": null,
   "id": "80c8ac78",
   "metadata": {},
   "outputs": [],
   "source": [
    "pwd"
   ]
  },
  {
   "cell_type": "code",
   "execution_count": null,
   "id": "11c9ca2e",
   "metadata": {},
   "outputs": [],
   "source": [
    "myfile.read()"
   ]
  },
  {
   "cell_type": "code",
   "execution_count": null,
   "id": "0422b82b",
   "metadata": {},
   "outputs": [],
   "source": [
    "myfile.read()"
   ]
  },
  {
   "cell_type": "code",
   "execution_count": null,
   "id": "0cfec155",
   "metadata": {},
   "outputs": [],
   "source": [
    "myfile.seek(0)"
   ]
  },
  {
   "cell_type": "code",
   "execution_count": null,
   "id": "8830f81c",
   "metadata": {},
   "outputs": [],
   "source": [
    "myfile.read()"
   ]
  },
  {
   "cell_type": "code",
   "execution_count": null,
   "id": "735e88bc",
   "metadata": {},
   "outputs": [],
   "source": [
    "myfile.seek(0)"
   ]
  },
  {
   "cell_type": "code",
   "execution_count": null,
   "id": "acdd3d7d",
   "metadata": {},
   "outputs": [],
   "source": [
    "myfile.readlines()"
   ]
  },
  {
   "cell_type": "code",
   "execution_count": null,
   "id": "0fc81b83",
   "metadata": {},
   "outputs": [],
   "source": [
    "myfile.close()"
   ]
  },
  {
   "cell_type": "code",
   "execution_count": null,
   "id": "37611df9",
   "metadata": {},
   "outputs": [],
   "source": [
    "with open('myfile.txt') as mynewfile:\n",
    "    contents = mynewfile.read()"
   ]
  },
  {
   "cell_type": "code",
   "execution_count": null,
   "id": "f5a9bd45",
   "metadata": {},
   "outputs": [],
   "source": [
    "contents"
   ]
  },
  {
   "cell_type": "code",
   "execution_count": null,
   "id": "834ff9ec",
   "metadata": {},
   "outputs": [],
   "source": [
    "1==1 and 2==2"
   ]
  },
  {
   "cell_type": "code",
   "execution_count": null,
   "id": "bfb22e82",
   "metadata": {},
   "outputs": [],
   "source": [
    "not(1==1)"
   ]
  },
  {
   "cell_type": "code",
   "execution_count": null,
   "id": "ba0b0095",
   "metadata": {},
   "outputs": [],
   "source": [
    "not 1==1"
   ]
  },
  {
   "cell_type": "code",
   "execution_count": null,
   "id": "240cb6fd",
   "metadata": {},
   "outputs": [],
   "source": [
    "1==1 or 2==9"
   ]
  },
  {
   "cell_type": "code",
   "execution_count": null,
   "id": "92001145",
   "metadata": {},
   "outputs": [],
   "source": [
    "if True:\n",
    "    print('true')"
   ]
  },
  {
   "cell_type": "code",
   "execution_count": null,
   "id": "32a54677",
   "metadata": {},
   "outputs": [],
   "source": [
    "name = 'idiot'\n",
    "\n",
    "if name == 'gandu':\n",
    "    print('true gandu')\n",
    "elif name == 'idiot':\n",
    "    print('true idiot')\n",
    "else:\n",
    "    print('true ahole')"
   ]
  },
  {
   "cell_type": "code",
   "execution_count": null,
   "id": "7635f584",
   "metadata": {},
   "outputs": [],
   "source": [
    "mylist = [1,2,3,4,5,6,7,8,9,10]\n",
    "\n",
    "for num in mylist:\n",
    "    print(num)"
   ]
  },
  {
   "cell_type": "code",
   "execution_count": null,
   "id": "2924a4f9",
   "metadata": {},
   "outputs": [],
   "source": [
    "for num in mylist:\n",
    "    if num % 2 == 0:\n",
    "        print(num)"
   ]
  },
  {
   "cell_type": "code",
   "execution_count": null,
   "id": "54400406",
   "metadata": {},
   "outputs": [],
   "source": [
    "mystr = 'wassup'\n",
    "\n",
    "for letter in mystr:\n",
    "    print(letter)"
   ]
  },
  {
   "cell_type": "code",
   "execution_count": null,
   "id": "5b38353b",
   "metadata": {},
   "outputs": [],
   "source": [
    "tu = (1,2,3,4)\n",
    "\n",
    "for i in tu:\n",
    "    print(i)"
   ]
  },
  {
   "cell_type": "code",
   "execution_count": null,
   "id": "3d6c3aee",
   "metadata": {},
   "outputs": [],
   "source": [
    "myl = [(1,2),(3,4),(5,6)]"
   ]
  },
  {
   "cell_type": "code",
   "execution_count": null,
   "id": "60657b07",
   "metadata": {},
   "outputs": [],
   "source": [
    "len(myl)"
   ]
  },
  {
   "cell_type": "code",
   "execution_count": null,
   "id": "35dcd657",
   "metadata": {},
   "outputs": [],
   "source": [
    "for i in myl:\n",
    "    print(i)"
   ]
  },
  {
   "cell_type": "code",
   "execution_count": null,
   "id": "2f00fc08",
   "metadata": {},
   "outputs": [],
   "source": [
    "for a,b in myl:\n",
    "    print(a)\n",
    "    print(b)"
   ]
  },
  {
   "cell_type": "code",
   "execution_count": null,
   "id": "a9839ebf",
   "metadata": {},
   "outputs": [],
   "source": [
    "mydict = {'k1':'v1','k2':'v2','k3':'v3'}"
   ]
  },
  {
   "cell_type": "code",
   "execution_count": null,
   "id": "e395cd7c",
   "metadata": {},
   "outputs": [],
   "source": [
    "for items in mydict:\n",
    "    print(items)"
   ]
  },
  {
   "cell_type": "code",
   "execution_count": null,
   "id": "53dee54d",
   "metadata": {},
   "outputs": [],
   "source": [
    "for items in mydict.items():\n",
    "    print(items)"
   ]
  },
  {
   "cell_type": "code",
   "execution_count": null,
   "id": "9750cb6d",
   "metadata": {},
   "outputs": [],
   "source": [
    "for key,items in mydict.items():\n",
    "    print(items)"
   ]
  },
  {
   "cell_type": "code",
   "execution_count": null,
   "id": "fc66213f",
   "metadata": {},
   "outputs": [],
   "source": [
    "for values in mydict.values():\n",
    "    print(values)"
   ]
  },
  {
   "cell_type": "code",
   "execution_count": null,
   "id": "65fbcc95",
   "metadata": {},
   "outputs": [],
   "source": [
    "for num in range(10):\n",
    "    print(num)"
   ]
  },
  {
   "cell_type": "code",
   "execution_count": null,
   "id": "041f8a64",
   "metadata": {},
   "outputs": [],
   "source": [
    "for num in range(6,10):\n",
    "    print(num)"
   ]
  },
  {
   "cell_type": "code",
   "execution_count": null,
   "id": "5082f23d",
   "metadata": {},
   "outputs": [],
   "source": [
    "for num in range(0,10,2):#2 is step size\n",
    "    print(num)"
   ]
  },
  {
   "cell_type": "code",
   "execution_count": null,
   "id": "ad7e21ed",
   "metadata": {},
   "outputs": [],
   "source": [
    "w = 'abcde'"
   ]
  },
  {
   "cell_type": "code",
   "execution_count": null,
   "id": "22bf9cc5",
   "metadata": {},
   "outputs": [],
   "source": [
    "list(enumerate(w))"
   ]
  },
  {
   "cell_type": "code",
   "execution_count": null,
   "id": "b3ace29e",
   "metadata": {},
   "outputs": [],
   "source": [
    "for i in enumerate(w):\n",
    "    print(i)"
   ]
  },
  {
   "cell_type": "code",
   "execution_count": null,
   "id": "ba3ffd99",
   "metadata": {},
   "outputs": [],
   "source": [
    "for i,l in enumerate(w):\n",
    "    print(i)\n",
    "    print(l)"
   ]
  },
  {
   "cell_type": "code",
   "execution_count": null,
   "id": "dfe66143",
   "metadata": {},
   "outputs": [],
   "source": [
    "myl1 = [1,2,3]\n",
    "myl2 = ['a','b','c']"
   ]
  },
  {
   "cell_type": "code",
   "execution_count": null,
   "id": "06fcf464",
   "metadata": {},
   "outputs": [],
   "source": [
    "for i in zip(myl1,myl2):\n",
    "    print(i)"
   ]
  },
  {
   "cell_type": "code",
   "execution_count": null,
   "id": "81e4ac0c",
   "metadata": {},
   "outputs": [],
   "source": [
    "mylist = [1,2,3,4,5,6,7,8,9,10]"
   ]
  },
  {
   "cell_type": "code",
   "execution_count": null,
   "id": "e0dbba39",
   "metadata": {},
   "outputs": [],
   "source": [
    "from random import shuffle"
   ]
  },
  {
   "cell_type": "code",
   "execution_count": null,
   "id": "7493dec7",
   "metadata": {},
   "outputs": [],
   "source": [
    "shuffle(mylist)"
   ]
  },
  {
   "cell_type": "code",
   "execution_count": null,
   "id": "0fb29720",
   "metadata": {},
   "outputs": [],
   "source": [
    "mylist"
   ]
  },
  {
   "cell_type": "code",
   "execution_count": null,
   "id": "526617b3",
   "metadata": {},
   "outputs": [],
   "source": [
    "from random import randint"
   ]
  },
  {
   "cell_type": "code",
   "execution_count": null,
   "id": "6de12c75",
   "metadata": {},
   "outputs": [],
   "source": [
    "randint(0,100)"
   ]
  },
  {
   "cell_type": "code",
   "execution_count": null,
   "id": "4bab5dbe",
   "metadata": {},
   "outputs": [],
   "source": [
    "result = input(\"The num is : \")"
   ]
  },
  {
   "cell_type": "code",
   "execution_count": null,
   "id": "93b66bc0",
   "metadata": {},
   "outputs": [],
   "source": [
    "result"
   ]
  },
  {
   "cell_type": "code",
   "execution_count": null,
   "id": "c54bf11e",
   "metadata": {},
   "outputs": [],
   "source": [
    "type(result)"
   ]
  },
  {
   "cell_type": "code",
   "execution_count": null,
   "id": "fafbe5a7",
   "metadata": {},
   "outputs": [],
   "source": [
    "float(result)"
   ]
  },
  {
   "cell_type": "code",
   "execution_count": null,
   "id": "269c1bd8",
   "metadata": {},
   "outputs": [],
   "source": [
    "int(result)"
   ]
  },
  {
   "cell_type": "code",
   "execution_count": null,
   "id": "f15d1994",
   "metadata": {},
   "outputs": [],
   "source": [
    "myst = 'hello'"
   ]
  },
  {
   "cell_type": "code",
   "execution_count": null,
   "id": "b1075e81",
   "metadata": {},
   "outputs": [],
   "source": [
    "mylists = []\n",
    "\n",
    "for l in myst:\n",
    "    mylists.append(l)\n",
    "print(mylists)"
   ]
  },
  {
   "cell_type": "code",
   "execution_count": null,
   "id": "11036faf",
   "metadata": {},
   "outputs": [],
   "source": [
    "mylist = [letter for letter in myst]"
   ]
  },
  {
   "cell_type": "code",
   "execution_count": null,
   "id": "e725e21c",
   "metadata": {},
   "outputs": [],
   "source": [
    "mylist"
   ]
  },
  {
   "cell_type": "code",
   "execution_count": null,
   "id": "6ac9fdc4",
   "metadata": {},
   "outputs": [],
   "source": [
    "mylist = [num**2 for num in range(0,11)]"
   ]
  },
  {
   "cell_type": "code",
   "execution_count": null,
   "id": "aaee7b48",
   "metadata": {},
   "outputs": [],
   "source": [
    "mylist"
   ]
  },
  {
   "cell_type": "code",
   "execution_count": null,
   "id": "f7740636",
   "metadata": {},
   "outputs": [],
   "source": [
    "mylist = [num for num in range(0,11) if num%2 == 0]"
   ]
  },
  {
   "cell_type": "code",
   "execution_count": null,
   "id": "7e17b346",
   "metadata": {},
   "outputs": [],
   "source": [
    "mylist"
   ]
  },
  {
   "cell_type": "code",
   "execution_count": null,
   "id": "d774f61b",
   "metadata": {},
   "outputs": [],
   "source": [
    "cel = [0,10,20,34.5]\n",
    "\n",
    "fahr = [((9/5)*temp + 32) for temp in cel]"
   ]
  },
  {
   "cell_type": "code",
   "execution_count": null,
   "id": "127df0d2",
   "metadata": {},
   "outputs": [],
   "source": [
    "fahr"
   ]
  },
  {
   "cell_type": "code",
   "execution_count": null,
   "id": "d83be9c4",
   "metadata": {},
   "outputs": [],
   "source": [
    "fahr = []\n",
    "\n",
    "for temp in cel:\n",
    "    fahr.append((9/5)*temp + 32)"
   ]
  },
  {
   "cell_type": "code",
   "execution_count": null,
   "id": "2a914384",
   "metadata": {},
   "outputs": [],
   "source": [
    "fahr"
   ]
  },
  {
   "cell_type": "code",
   "execution_count": null,
   "id": "1e167f8b",
   "metadata": {},
   "outputs": [],
   "source": [
    "def even_check(num):\n",
    "    result = num%2 == 0\n",
    "    return result"
   ]
  },
  {
   "cell_type": "code",
   "execution_count": null,
   "id": "8bbb7d82",
   "metadata": {},
   "outputs": [],
   "source": [
    "even_check(20)"
   ]
  },
  {
   "cell_type": "code",
   "execution_count": null,
   "id": "87d732a0",
   "metadata": {},
   "outputs": [],
   "source": [
    "emp = [('a',300),('b',350),('c',400)]"
   ]
  },
  {
   "cell_type": "code",
   "execution_count": null,
   "id": "d039bacd",
   "metadata": {},
   "outputs": [],
   "source": [
    "def max_work_hours(emps):\n",
    "    \n",
    "    max_hours = 0\n",
    "    emp_of_t_m = ''\n",
    "    \n",
    "    for name,hours in emps:\n",
    "        if hours > max_hours:\n",
    "            max_hours = hours\n",
    "            emp_of_t_m = name\n",
    "        else:\n",
    "            pass\n",
    "        \n",
    "    return (emp_of_t_m,max_hours)"
   ]
  },
  {
   "cell_type": "code",
   "execution_count": null,
   "id": "3a5a0186",
   "metadata": {},
   "outputs": [],
   "source": [
    "max_work_hours(emp)"
   ]
  },
  {
   "cell_type": "code",
   "execution_count": null,
   "id": "1262e373",
   "metadata": {},
   "outputs": [],
   "source": [
    "name,hours = max_work_hours(emp)"
   ]
  },
  {
   "cell_type": "code",
   "execution_count": null,
   "id": "13e8ea21",
   "metadata": {},
   "outputs": [],
   "source": [
    "name"
   ]
  },
  {
   "cell_type": "code",
   "execution_count": null,
   "id": "cf526961",
   "metadata": {},
   "outputs": [],
   "source": [
    "hours"
   ]
  },
  {
   "cell_type": "code",
   "execution_count": null,
   "id": "4273e74f",
   "metadata": {},
   "outputs": [],
   "source": [
    "#*args allows user to pass as many arguments and returns tups\n",
    "def myfunc(*args):\n",
    "    print(args)"
   ]
  },
  {
   "cell_type": "code",
   "execution_count": null,
   "id": "0ebea535",
   "metadata": {},
   "outputs": [],
   "source": [
    "myfunc(1,2,30,40,400,50,60,70)"
   ]
  },
  {
   "cell_type": "code",
   "execution_count": null,
   "id": "118edd5e",
   "metadata": {},
   "outputs": [],
   "source": [
    "#**kwargs returns dicts\n",
    "def func(**kwargs):\n",
    "    print(kwargs)\n",
    "    if 'fruit' in kwargs:\n",
    "        print('The fruit is {}'.format(kwargs['fruit']))\n",
    "    else:\n",
    "        print('Didnt find any')\n",
    "        "
   ]
  },
  {
   "cell_type": "code",
   "execution_count": null,
   "id": "c3be1534",
   "metadata": {},
   "outputs": [],
   "source": [
    "func(fruit = 'apple')"
   ]
  },
  {
   "cell_type": "code",
   "execution_count": null,
   "id": "5e342aca",
   "metadata": {},
   "outputs": [],
   "source": [
    "def afunc(*args,**kwargs):\n",
    "    print(args)\n",
    "    print(kwargs)\n",
    "    \n",
    "    print('I would like {}  {}'.format(args[1],kwargs['food']))"
   ]
  },
  {
   "cell_type": "code",
   "execution_count": null,
   "id": "17fdf7d7",
   "metadata": {},
   "outputs": [],
   "source": [
    "afunc(10,20,30,food = 'dosas',fruit = 'orange')"
   ]
  },
  {
   "cell_type": "code",
   "execution_count": null,
   "id": "6ecf7a50",
   "metadata": {},
   "outputs": [],
   "source": [
    "\n",
    "def myfunc(st):\n",
    "    res = ''\n",
    "    for i,l in enumerate(st):\n",
    "        if i % 2 == 0:\n",
    "            res+=l.upper()\n",
    "        else:\n",
    "            res+=l.lower()\n",
    "    return res"
   ]
  },
  {
   "cell_type": "code",
   "execution_count": null,
   "id": "fc4f46c6",
   "metadata": {},
   "outputs": [],
   "source": [
    "myfunc('hello')"
   ]
  },
  {
   "cell_type": "code",
   "execution_count": null,
   "id": "7d49ec97",
   "metadata": {},
   "outputs": [],
   "source": [
    "st = 'hello'"
   ]
  },
  {
   "cell_type": "code",
   "execution_count": null,
   "id": "c207694f",
   "metadata": {},
   "outputs": [],
   "source": [
    "ns = [st]"
   ]
  },
  {
   "cell_type": "code",
   "execution_count": null,
   "id": "64f5f6f7",
   "metadata": {},
   "outputs": [],
   "source": [
    "ns"
   ]
  },
  {
   "cell_type": "markdown",
   "id": "a907f37b",
   "metadata": {},
   "source": [
    "MAP"
   ]
  },
  {
   "cell_type": "code",
   "execution_count": null,
   "id": "ab4bd4a3",
   "metadata": {},
   "outputs": [],
   "source": [
    "def sq(num):\n",
    "    return num**2"
   ]
  },
  {
   "cell_type": "code",
   "execution_count": null,
   "id": "955df636",
   "metadata": {},
   "outputs": [],
   "source": [
    "numbers = [1,2,3,4,5]"
   ]
  },
  {
   "cell_type": "code",
   "execution_count": null,
   "id": "ac2c3952",
   "metadata": {},
   "outputs": [],
   "source": [
    "map(sq,numbers)"
   ]
  },
  {
   "cell_type": "code",
   "execution_count": null,
   "id": "96ef5444",
   "metadata": {},
   "outputs": [],
   "source": [
    "list(map(sq,numbers))"
   ]
  },
  {
   "cell_type": "code",
   "execution_count": null,
   "id": "aa496d7c",
   "metadata": {},
   "outputs": [],
   "source": [
    "for n in map(sq,numbers):\n",
    "    print(n)"
   ]
  },
  {
   "cell_type": "markdown",
   "id": "3810f2e5",
   "metadata": {},
   "source": [
    "FILTER"
   ]
  },
  {
   "cell_type": "code",
   "execution_count": 1,
   "id": "aa3bd021",
   "metadata": {},
   "outputs": [],
   "source": [
    "def check_even(num):\n",
    "    return num%2 == 0"
   ]
  },
  {
   "cell_type": "code",
   "execution_count": 2,
   "id": "f82462cb",
   "metadata": {},
   "outputs": [],
   "source": [
    "nums = [1,2,3,4,5,6,7,8,9,10]"
   ]
  },
  {
   "cell_type": "code",
   "execution_count": 3,
   "id": "f2384e6d",
   "metadata": {},
   "outputs": [
    {
     "data": {
      "text/plain": [
       "<filter at 0x2c41ce18100>"
      ]
     },
     "execution_count": 3,
     "metadata": {},
     "output_type": "execute_result"
    }
   ],
   "source": [
    "filter(check_even,nums)"
   ]
  },
  {
   "cell_type": "code",
   "execution_count": 4,
   "id": "283f926e",
   "metadata": {},
   "outputs": [
    {
     "data": {
      "text/plain": [
       "[2, 4, 6, 8, 10]"
      ]
     },
     "execution_count": 4,
     "metadata": {},
     "output_type": "execute_result"
    }
   ],
   "source": [
    "list(filter(check_even,nums))"
   ]
  },
  {
   "cell_type": "code",
   "execution_count": 5,
   "id": "a0978cd0",
   "metadata": {},
   "outputs": [
    {
     "name": "stdout",
     "output_type": "stream",
     "text": [
      "2\n",
      "4\n",
      "6\n",
      "8\n",
      "10\n"
     ]
    }
   ],
   "source": [
    "for n in filter(check_even,nums):\n",
    "    print(n)"
   ]
  },
  {
   "cell_type": "markdown",
   "id": "534afc4d",
   "metadata": {},
   "source": [
    "LAMBDA FUNCTIONS"
   ]
  },
  {
   "cell_type": "code",
   "execution_count": null,
   "id": "0622808d",
   "metadata": {},
   "outputs": [],
   "source": [
    "def sq(num):\n",
    "    return num**2"
   ]
  },
  {
   "cell_type": "code",
   "execution_count": null,
   "id": "73e4705e",
   "metadata": {},
   "outputs": [],
   "source": [
    "sq(3)"
   ]
  },
  {
   "cell_type": "code",
   "execution_count": 6,
   "id": "205a083d",
   "metadata": {},
   "outputs": [],
   "source": [
    "#The above can be converted into\n",
    "square = lambda num : num**2"
   ]
  },
  {
   "cell_type": "code",
   "execution_count": 7,
   "id": "be5745d0",
   "metadata": {},
   "outputs": [
    {
     "data": {
      "text/plain": [
       "4"
      ]
     },
     "execution_count": 7,
     "metadata": {},
     "output_type": "execute_result"
    }
   ],
   "source": [
    "square(2)"
   ]
  },
  {
   "cell_type": "code",
   "execution_count": 8,
   "id": "c86eb5f3",
   "metadata": {},
   "outputs": [
    {
     "data": {
      "text/plain": [
       "[1, 4, 9, 16, 25, 36, 49, 64, 81, 100]"
      ]
     },
     "execution_count": 8,
     "metadata": {},
     "output_type": "execute_result"
    }
   ],
   "source": [
    "list(map(lambda num : num**2,nums))"
   ]
  },
  {
   "cell_type": "code",
   "execution_count": null,
   "id": "d73705b7",
   "metadata": {},
   "outputs": [],
   "source": [
    "list(filter(lambda num : num%2 == 0,nums))"
   ]
  },
  {
   "cell_type": "markdown",
   "id": "d8578c84",
   "metadata": {},
   "source": [
    "LEGB RULE"
   ]
  },
  {
   "cell_type": "code",
   "execution_count": null,
   "id": "232f19be",
   "metadata": {},
   "outputs": [],
   "source": [
    "from IPython.display import clear_output\n",
    "\n",
    "def display_board(board):\n",
    "    \n",
    "    clear_output()\n",
    "    \n",
    "    print('   |   |')\n",
    "    print(' ' + board[7] + ' | ' + board[8] + ' | ' + board[9])\n",
    "    print('   |   |')\n",
    "    print('-----------')\n",
    "    print('   |   |')\n",
    "    print(' ' + board[4] + ' | ' + board[5] + ' | ' + board[6])\n",
    "    print('   |   |')\n",
    "    print('-----------')\n",
    "    print('   |   |')\n",
    "    print(' ' + board[1] + ' | ' + board[2] + ' | ' + board[3])\n",
    "    print('   |   |')"
   ]
  },
  {
   "cell_type": "code",
   "execution_count": null,
   "id": "5b046876",
   "metadata": {},
   "outputs": [],
   "source": [
    "d = {1,\"a\",2,\"b\"}"
   ]
  },
  {
   "cell_type": "code",
   "execution_count": null,
   "id": "22d2e03a",
   "metadata": {},
   "outputs": [],
   "source": [
    "x = ['ab','cd']\n",
    "print(list(map(list,x)))"
   ]
  },
  {
   "cell_type": "code",
   "execution_count": null,
   "id": "c53ecb38",
   "metadata": {},
   "outputs": [],
   "source": [
    "class truth:\n",
    "    pass\n",
    "x = truth()\n",
    "bool(x)"
   ]
  },
  {
   "cell_type": "code",
   "execution_count": null,
   "id": "6e9ff5d1",
   "metadata": {},
   "outputs": [],
   "source": [
    "example = \"helle\"\n",
    "example.rfind(\"e\")"
   ]
  },
  {
   "cell_type": "code",
   "execution_count": null,
   "id": "a1dcfcc1",
   "metadata": {},
   "outputs": [],
   "source": [
    "['f','t'][bool('spam')]"
   ]
  },
  {
   "cell_type": "code",
   "execution_count": null,
   "id": "7d223a2d",
   "metadata": {},
   "outputs": [],
   "source": [
    "class Dog():\n",
    "    #class object attributes\n",
    "    species = 'mammal'\n",
    "    \n",
    "    def __init__(self,breed,name,spots):\n",
    "        self.breed = breed\n",
    "        self.name = name\n",
    "        #spots is boolean\n",
    "        self.spots = spots\n",
    "        \n",
    "    def bark(self,age):\n",
    "        print('BouBou! My name is {} and my age is {}'.format(self.name,age))\n"
   ]
  },
  {
   "cell_type": "code",
   "execution_count": null,
   "id": "98e43c08",
   "metadata": {},
   "outputs": [],
   "source": [
    "mydog = Dog('lab','oliver',False)"
   ]
  },
  {
   "cell_type": "code",
   "execution_count": null,
   "id": "1cb4272b",
   "metadata": {},
   "outputs": [],
   "source": [
    "type(myclass)"
   ]
  },
  {
   "cell_type": "code",
   "execution_count": null,
   "id": "ac7d0c2d",
   "metadata": {},
   "outputs": [],
   "source": [
    "mydog.spots"
   ]
  },
  {
   "cell_type": "code",
   "execution_count": null,
   "id": "30be4096",
   "metadata": {},
   "outputs": [],
   "source": [
    "mydog.breed"
   ]
  },
  {
   "cell_type": "code",
   "execution_count": null,
   "id": "05ab0600",
   "metadata": {},
   "outputs": [],
   "source": [
    "mydog.name"
   ]
  },
  {
   "cell_type": "code",
   "execution_count": null,
   "id": "e002c05f",
   "metadata": {},
   "outputs": [],
   "source": [
    "mydog.species"
   ]
  },
  {
   "cell_type": "code",
   "execution_count": null,
   "id": "43b32b97",
   "metadata": {},
   "outputs": [],
   "source": [
    "mydog.bark(5)"
   ]
  },
  {
   "cell_type": "markdown",
   "id": "f21ce128",
   "metadata": {},
   "source": [
    "INHERITANCE"
   ]
  },
  {
   "cell_type": "code",
   "execution_count": null,
   "id": "dfafd6f7",
   "metadata": {},
   "outputs": [],
   "source": [
    "class Circle():\n",
    "    \n",
    "    #Class object attribute\n",
    "    pi = 3.14\n",
    "    \n",
    "    #default val of radius is 2\n",
    "    def __init__(self,radius = 2):\n",
    "        self.radius = radius\n",
    "        self.area = radius*radius*self.pi\n",
    "        \n",
    "    def getcircumference(self):\n",
    "        #Can also be written as self.pi\n",
    "        return Circle.pi * self.radius *2"
   ]
  },
  {
   "cell_type": "code",
   "execution_count": null,
   "id": "6df4e620",
   "metadata": {},
   "outputs": [],
   "source": [
    "mycircle = Circle(30)"
   ]
  },
  {
   "cell_type": "code",
   "execution_count": null,
   "id": "b21a22d9",
   "metadata": {},
   "outputs": [],
   "source": [
    "mycircle.pi"
   ]
  },
  {
   "cell_type": "code",
   "execution_count": null,
   "id": "e4b50c5f",
   "metadata": {},
   "outputs": [],
   "source": [
    "mycircle.radius"
   ]
  },
  {
   "cell_type": "code",
   "execution_count": null,
   "id": "b65f97d0",
   "metadata": {},
   "outputs": [],
   "source": [
    "mycircle.getcircumference()"
   ]
  },
  {
   "cell_type": "code",
   "execution_count": null,
   "id": "01c524af",
   "metadata": {},
   "outputs": [],
   "source": [
    "mycircle.area"
   ]
  },
  {
   "cell_type": "code",
   "execution_count": null,
   "id": "10d82961",
   "metadata": {},
   "outputs": [],
   "source": [
    "class Animal():\n",
    "    \n",
    "    def __init__(self):\n",
    "        print(\"Animal Created\")\n",
    "        \n",
    "    def who_am_i(self):\n",
    "        print(\"I am an Animal\")\n",
    "        \n",
    "    def eat(self):\n",
    "        print(\"I am eating\")"
   ]
  },
  {
   "cell_type": "code",
   "execution_count": null,
   "id": "24871670",
   "metadata": {},
   "outputs": [],
   "source": [
    "myanimal = Animal()"
   ]
  },
  {
   "cell_type": "code",
   "execution_count": null,
   "id": "ac6eed81",
   "metadata": {},
   "outputs": [],
   "source": [
    "myanimal.eat()"
   ]
  },
  {
   "cell_type": "code",
   "execution_count": null,
   "id": "9940d64a",
   "metadata": {},
   "outputs": [],
   "source": [
    "myanimal.who_am_i()"
   ]
  },
  {
   "cell_type": "code",
   "execution_count": null,
   "id": "990849af",
   "metadata": {},
   "outputs": [],
   "source": [
    "class Dog(Animal):\n",
    "    \n",
    "    def __init__(self):\n",
    "        Animal.__init__(self)\n",
    "        print(\"Dog created\")\n",
    "        \n",
    "        \n",
    "    def who_am_i(self):\n",
    "        Animal.who_am_i(self)\n",
    "        print(\"I am a dog\")\n",
    "        "
   ]
  },
  {
   "cell_type": "code",
   "execution_count": null,
   "id": "4b80a583",
   "metadata": {},
   "outputs": [],
   "source": [
    "mydog = Dog()"
   ]
  },
  {
   "cell_type": "code",
   "execution_count": null,
   "id": "16af56d5",
   "metadata": {},
   "outputs": [],
   "source": [
    "mydog.eat()"
   ]
  },
  {
   "cell_type": "code",
   "execution_count": null,
   "id": "4649966c",
   "metadata": {},
   "outputs": [],
   "source": [
    "mydog.who_am_i()"
   ]
  },
  {
   "cell_type": "markdown",
   "id": "dded4f08",
   "metadata": {},
   "source": [
    "POLYMORPHISM"
   ]
  },
  {
   "cell_type": "code",
   "execution_count": null,
   "id": "be5c6c39",
   "metadata": {},
   "outputs": [],
   "source": [
    "class doggy():\n",
    "    \n",
    "    def __init__(self,name):\n",
    "        self.name = name\n",
    "        \n",
    "    def speak(self):\n",
    "        return self.name + \" says boubou\""
   ]
  },
  {
   "cell_type": "code",
   "execution_count": null,
   "id": "a2c65427",
   "metadata": {},
   "outputs": [],
   "source": [
    "class Cat():\n",
    "    \n",
    "    def __init__(self,name):\n",
    "        self.name = name\n",
    "        \n",
    "    def speak(self):\n",
    "        return self.name + \" says meeooow\""
   ]
  },
  {
   "cell_type": "code",
   "execution_count": null,
   "id": "a72ea394",
   "metadata": {},
   "outputs": [],
   "source": [
    "sibi = Cat(\"sibi\")\n",
    "oli = doggy(\"oli\")"
   ]
  },
  {
   "cell_type": "code",
   "execution_count": null,
   "id": "0d29e487",
   "metadata": {},
   "outputs": [],
   "source": [
    "print(sibi.speak())"
   ]
  },
  {
   "cell_type": "code",
   "execution_count": null,
   "id": "15894d71",
   "metadata": {},
   "outputs": [],
   "source": [
    "print(oli.speak())"
   ]
  },
  {
   "cell_type": "code",
   "execution_count": null,
   "id": "7c2bd92d",
   "metadata": {},
   "outputs": [],
   "source": [
    "for pet in [oli,sibi]:\n",
    "    \n",
    "    print(type(pet))\n",
    "    print(pet.speak())\n",
    "    "
   ]
  },
  {
   "cell_type": "code",
   "execution_count": null,
   "id": "82a5d2d3",
   "metadata": {},
   "outputs": [],
   "source": [
    "def pet_speak(pet):\n",
    "    print(pet.speak())"
   ]
  },
  {
   "cell_type": "code",
   "execution_count": null,
   "id": "cfd395ce",
   "metadata": {},
   "outputs": [],
   "source": [
    "pet_speak(oli)"
   ]
  },
  {
   "cell_type": "code",
   "execution_count": null,
   "id": "4b084908",
   "metadata": {},
   "outputs": [],
   "source": [
    "class Animals():\n",
    "    def __init__(self,name):\n",
    "        self.name = name\n",
    "        \n",
    "    def speaks(self):\n",
    "        raise NotImplementedError(\"Can't Use abstract method\")"
   ]
  },
  {
   "cell_type": "code",
   "execution_count": null,
   "id": "c0fc73c0",
   "metadata": {},
   "outputs": [],
   "source": [
    "gooly  = Animals('gooly')"
   ]
  },
  {
   "cell_type": "code",
   "execution_count": null,
   "id": "03025fd5",
   "metadata": {},
   "outputs": [],
   "source": [
    "gooly.speaks()"
   ]
  },
  {
   "cell_type": "code",
   "execution_count": null,
   "id": "b9665183",
   "metadata": {},
   "outputs": [],
   "source": [
    "class Puppies(Animals):\n",
    "        \n",
    "    def speaks(self):\n",
    "        return self.name + \" woooof!\""
   ]
  },
  {
   "cell_type": "code",
   "execution_count": null,
   "id": "d3c43896",
   "metadata": {},
   "outputs": [],
   "source": [
    "class Kittens(Animals):\n",
    "        \n",
    "    def speaks(self):\n",
    "        return self.name + \" meeeeooooow!\""
   ]
  },
  {
   "cell_type": "code",
   "execution_count": null,
   "id": "7cbf6505",
   "metadata": {},
   "outputs": [],
   "source": [
    "gools = Puppies(\"gools\")"
   ]
  },
  {
   "cell_type": "code",
   "execution_count": null,
   "id": "f13b6286",
   "metadata": {},
   "outputs": [],
   "source": [
    "gools.speaks()"
   ]
  },
  {
   "cell_type": "code",
   "execution_count": null,
   "id": "d5c81fec",
   "metadata": {},
   "outputs": [],
   "source": [
    "siby = Kittens(\"siby\")"
   ]
  },
  {
   "cell_type": "code",
   "execution_count": null,
   "id": "a2821c9a",
   "metadata": {},
   "outputs": [],
   "source": [
    "siby.speaks()"
   ]
  },
  {
   "cell_type": "code",
   "execution_count": null,
   "id": "a25a524c",
   "metadata": {},
   "outputs": [],
   "source": [
    "class books():\n",
    "    \n",
    "    def __init__(self,title,author,pages):\n",
    "        self.title = title\n",
    "        self.author = author\n",
    "        self.pages = pages\n",
    "        \n",
    "    def __str__(self):\n",
    "        return f\" '{self.title}' by {self.author}\"\n",
    "    \n",
    "    def __len__(self):\n",
    "        return self.pages\n",
    "    \n",
    "    #Only neccessary if u need to print a message else it's alright\n",
    "    def __del__(self):\n",
    "        print(\"A book has been deleted\")"
   ]
  },
  {
   "cell_type": "code",
   "execution_count": null,
   "id": "117fe269",
   "metadata": {},
   "outputs": [],
   "source": [
    "mybook = books(\"Python is cool\",\"myself\",300)"
   ]
  },
  {
   "cell_type": "code",
   "execution_count": null,
   "id": "8b20cb76",
   "metadata": {},
   "outputs": [],
   "source": [
    "print(mybook)"
   ]
  },
  {
   "cell_type": "code",
   "execution_count": null,
   "id": "a747c4a0",
   "metadata": {},
   "outputs": [],
   "source": [
    "len(mybook)"
   ]
  },
  {
   "cell_type": "code",
   "execution_count": null,
   "id": "5cf32bc7",
   "metadata": {},
   "outputs": [],
   "source": [
    "del mybook"
   ]
  },
  {
   "cell_type": "code",
   "execution_count": null,
   "id": "46e7abda",
   "metadata": {},
   "outputs": [],
   "source": [
    "try:\n",
    "    #May or may not have an error\n",
    "    num = 10 + 10\n",
    "except:\n",
    "    #runs if error in try block\n",
    "    print(\"You r not adding correctly\")\n",
    "else:\n",
    "    #executes if try executes\n",
    "    print(\"Add went well\")\n",
    "    print(num)"
   ]
  },
  {
   "cell_type": "code",
   "execution_count": null,
   "id": "2eab3ea7",
   "metadata": {},
   "outputs": [],
   "source": [
    "try:\n",
    "    #May or may not have an error\n",
    "    num = 10 + '10'\n",
    "except:\n",
    "    #runs if error in try block\n",
    "    print(\"You r not adding correctly\")\n",
    "else:\n",
    "    #executes if try executes\n",
    "    print(\"Add went well\")\n",
    "    print(num)"
   ]
  },
  {
   "cell_type": "code",
   "execution_count": null,
   "id": "55021e06",
   "metadata": {},
   "outputs": [],
   "source": [
    "try:\n",
    "    #May or may not have an error\n",
    "    file = open('testfile','w')\n",
    "    file.write('test line')\n",
    "except:\n",
    "    #runs if error in try block\n",
    "    print(\"You have an error\")\n",
    "finally:\n",
    "    #runs no matter what\n",
    "    print('I run no matter what')"
   ]
  },
  {
   "cell_type": "code",
   "execution_count": null,
   "id": "c3d830d0",
   "metadata": {},
   "outputs": [],
   "source": [
    "try:\n",
    "    #May or may not have an error\n",
    "    file = open('testfile','r')\n",
    "    file.write('test line')\n",
    "except:\n",
    "    #runs if error in try block\n",
    "    print(\"You have an error\")\n",
    "finally:\n",
    "    #runs no matter what\n",
    "    print('I run no matter what')"
   ]
  },
  {
   "cell_type": "code",
   "execution_count": null,
   "id": "0ba3f51d",
   "metadata": {},
   "outputs": [],
   "source": [
    "def ask_for_int():\n",
    "    try:\n",
    "        inp = int(input(\"Please provide a number:   \"))\n",
    "    except:\n",
    "        print(\"Not a number\")\n",
    "    finally:\n",
    "        print(\"End of try/except/finally \")"
   ]
  },
  {
   "cell_type": "code",
   "execution_count": null,
   "id": "309cc105",
   "metadata": {},
   "outputs": [],
   "source": [
    "ask_for_int()"
   ]
  },
  {
   "cell_type": "code",
   "execution_count": null,
   "id": "cf0f7c6e",
   "metadata": {},
   "outputs": [],
   "source": [
    "ask_for_int()"
   ]
  },
  {
   "cell_type": "code",
   "execution_count": null,
   "id": "6083d665",
   "metadata": {},
   "outputs": [],
   "source": [
    "def ask_for_int():\n",
    "    while True:\n",
    "        try:\n",
    "            inp = int(input(\"Please provide a number:   \"))\n",
    "        except:\n",
    "            print(\"Not a number\")\n",
    "            continue\n",
    "        else:\n",
    "            print(\"Thank you!\")\n",
    "            break\n",
    "        finally:\n",
    "            print(\"End of try/except/finally.I get printed no matter what\")"
   ]
  },
  {
   "cell_type": "code",
   "execution_count": null,
   "id": "6870ac68",
   "metadata": {},
   "outputs": [],
   "source": [
    "ask_for_int()"
   ]
  },
  {
   "cell_type": "code",
   "execution_count": null,
   "id": "cca1b496",
   "metadata": {},
   "outputs": [],
   "source": [
    "ask_for_int()"
   ]
  },
  {
   "cell_type": "markdown",
   "id": "e5a06101",
   "metadata": {},
   "source": [
    "Card Game"
   ]
  },
  {
   "cell_type": "code",
   "execution_count": null,
   "id": "00743e92",
   "metadata": {},
   "outputs": [],
   "source": [
    "import random\n",
    "\n",
    "suits = ('Hearts', 'Diamonds', 'Spades', 'Clubs')\n",
    "ranks = ('Two', 'Three', 'Four', 'Five', 'Six', 'Seven', 'Eight', 'Nine', 'Ten', 'Jack', 'Queen', 'King', 'Ace')\n",
    "values = {'Two':2, 'Three':3, 'Four':4, 'Five':5, 'Six':6, 'Seven':7, 'Eight':8, \n",
    "            'Nine':9, 'Ten':10, 'Jack':11, 'Queen':12, 'King':13, 'Ace':14}"
   ]
  },
  {
   "cell_type": "code",
   "execution_count": null,
   "id": "ee3a482f",
   "metadata": {},
   "outputs": [],
   "source": [
    "class Card:\n",
    "    def __init__(self,suit,rank):\n",
    "        self.suit = suit\n",
    "        self.rank = rank\n",
    "        self.value = values[rank]\n",
    "        \n",
    "    def __str__(self):\n",
    "        return self.rank + \" of \" + self.suit\n",
    "    "
   ]
  },
  {
   "cell_type": "code",
   "execution_count": null,
   "id": "f335ab12",
   "metadata": {},
   "outputs": [],
   "source": [
    "three_of_clubs = Card('Clubs','Three')"
   ]
  },
  {
   "cell_type": "code",
   "execution_count": null,
   "id": "1931b8f7",
   "metadata": {},
   "outputs": [],
   "source": [
    "three_of_clubs.suit"
   ]
  },
  {
   "cell_type": "code",
   "execution_count": null,
   "id": "d8c81a66",
   "metadata": {},
   "outputs": [],
   "source": [
    "three_of_clubs.rank"
   ]
  },
  {
   "cell_type": "code",
   "execution_count": null,
   "id": "ccaa7238",
   "metadata": {},
   "outputs": [],
   "source": [
    "three_of_clubs.value"
   ]
  },
  {
   "cell_type": "code",
   "execution_count": null,
   "id": "62401d42",
   "metadata": {},
   "outputs": [],
   "source": [
    "class Deck:\n",
    "    \n",
    "    def __init__(self):\n",
    "        self.all_cards = []\n",
    "        \n",
    "        for suit in suits:\n",
    "            for rank in ranks:\n",
    "                created_card = Card(suit,rank)\n",
    "                \n",
    "                self.all_cards.append(created_card)\n",
    "                \n",
    "    def shuffle(self):\n",
    "        random.shuffle(self.all_cards)\n",
    "        \n",
    "    def deal_one(self):\n",
    "        return self.all_cards.pop()"
   ]
  },
  {
   "cell_type": "code",
   "execution_count": null,
   "id": "b29e5fb9",
   "metadata": {},
   "outputs": [],
   "source": [
    "new_deck = Deck()"
   ]
  },
  {
   "cell_type": "code",
   "execution_count": null,
   "id": "8143aab8",
   "metadata": {},
   "outputs": [],
   "source": [
    "new_deck.all_cards"
   ]
  },
  {
   "cell_type": "code",
   "execution_count": null,
   "id": "c119602e",
   "metadata": {},
   "outputs": [],
   "source": [
    "first_card = new_deck.all_cards[0]"
   ]
  },
  {
   "cell_type": "code",
   "execution_count": null,
   "id": "d8d4e2a2",
   "metadata": {},
   "outputs": [],
   "source": [
    "print(first_card)"
   ]
  },
  {
   "cell_type": "code",
   "execution_count": null,
   "id": "aeb9e5c2",
   "metadata": {},
   "outputs": [],
   "source": [
    "for card_object in new_deck.all_cards:\n",
    "    print(card_object)"
   ]
  },
  {
   "cell_type": "code",
   "execution_count": null,
   "id": "e14c3836",
   "metadata": {},
   "outputs": [],
   "source": [
    "new_deck.shuffle()"
   ]
  },
  {
   "cell_type": "code",
   "execution_count": null,
   "id": "09a8f6b8",
   "metadata": {},
   "outputs": [],
   "source": [
    "print(new_deck.all_cards[0])"
   ]
  },
  {
   "cell_type": "code",
   "execution_count": null,
   "id": "50877e29",
   "metadata": {},
   "outputs": [],
   "source": [
    "new_deck.deal_one()"
   ]
  },
  {
   "cell_type": "code",
   "execution_count": null,
   "id": "b4ab60c3",
   "metadata": {},
   "outputs": [],
   "source": [
    "print(new_deck.deal_one())"
   ]
  },
  {
   "cell_type": "code",
   "execution_count": null,
   "id": "3ddf40a1",
   "metadata": {},
   "outputs": [],
   "source": [
    "len(new_deck.all_cards)"
   ]
  },
  {
   "cell_type": "code",
   "execution_count": null,
   "id": "17db0201",
   "metadata": {},
   "outputs": [],
   "source": [
    "class Player:\n",
    "    \n",
    "    def __init__(self,name):\n",
    "        self.name = name\n",
    "        self.all_cards = []\n",
    "        \n",
    "    def remove_one(self):\n",
    "        return self.all_cards.pop()\n",
    "    \n",
    "    def add_cards(self,new_cards):\n",
    "        if type(new_cards) == type([]):\n",
    "            self.all_cards.extend(new_cards)\n",
    "        else:\n",
    "            self.all_cards.append(new_cards)\n",
    "            \n",
    "    def __str__(self):\n",
    "        return f'Player {self.name} has {len(self.all_cards)} cards'\n",
    "    "
   ]
  },
  {
   "cell_type": "code",
   "execution_count": null,
   "id": "674fa392",
   "metadata": {},
   "outputs": [],
   "source": [
    "new_player = Player(\"oliver\")"
   ]
  },
  {
   "cell_type": "code",
   "execution_count": null,
   "id": "71f985db",
   "metadata": {},
   "outputs": [],
   "source": [
    "print(new_player)"
   ]
  },
  {
   "cell_type": "code",
   "execution_count": null,
   "id": "72e13fff",
   "metadata": {},
   "outputs": [],
   "source": [
    "print(first_card)"
   ]
  },
  {
   "cell_type": "code",
   "execution_count": null,
   "id": "1b622509",
   "metadata": {},
   "outputs": [],
   "source": [
    "new_player.add_cards(first_card)"
   ]
  },
  {
   "cell_type": "code",
   "execution_count": null,
   "id": "2e2c780b",
   "metadata": {},
   "outputs": [],
   "source": [
    "print(new_player)"
   ]
  },
  {
   "cell_type": "code",
   "execution_count": null,
   "id": "e31698a9",
   "metadata": {},
   "outputs": [],
   "source": [
    "new_player.remove_one()"
   ]
  },
  {
   "cell_type": "code",
   "execution_count": null,
   "id": "82bbbc14",
   "metadata": {},
   "outputs": [],
   "source": [
    "new_player.add_cards([first_card,first_card,first_card])"
   ]
  },
  {
   "cell_type": "code",
   "execution_count": null,
   "id": "c7f7c8ab",
   "metadata": {},
   "outputs": [],
   "source": [
    "print(new_player)"
   ]
  },
  {
   "cell_type": "code",
   "execution_count": null,
   "id": "3799ed0f",
   "metadata": {},
   "outputs": [],
   "source": [
    "player_one = Player('One')\n",
    "player_two = Player('Two')\n",
    "\n",
    "new_deck = Deck()\n",
    "new_deck.shuffle\n",
    "\n",
    "for x in range(26):\n",
    "    player_one.add_cards(new_deck.deal_one)\n",
    "    player_two.add_cards(new_deck.deal_one)\n",
    "    "
   ]
  },
  {
   "cell_type": "code",
   "execution_count": null,
   "id": "45874745",
   "metadata": {},
   "outputs": [],
   "source": [
    "game_on = True"
   ]
  },
  {
   "cell_type": "code",
   "execution_count": null,
   "id": "1eb52e20",
   "metadata": {},
   "outputs": [],
   "source": [
    "def hello():\n",
    "    return 'Hello!'"
   ]
  },
  {
   "cell_type": "code",
   "execution_count": null,
   "id": "8c72238d",
   "metadata": {},
   "outputs": [],
   "source": [
    "hello"
   ]
  },
  {
   "cell_type": "code",
   "execution_count": null,
   "id": "0bf4777c",
   "metadata": {},
   "outputs": [],
   "source": [
    "greet = hello"
   ]
  },
  {
   "cell_type": "code",
   "execution_count": null,
   "id": "3221698c",
   "metadata": {},
   "outputs": [],
   "source": [
    "greet()"
   ]
  },
  {
   "cell_type": "code",
   "execution_count": null,
   "id": "2ed5ff88",
   "metadata": {},
   "outputs": [],
   "source": [
    "del hello"
   ]
  },
  {
   "cell_type": "code",
   "execution_count": null,
   "id": "efc4c15b",
   "metadata": {},
   "outputs": [],
   "source": [
    "hello"
   ]
  },
  {
   "cell_type": "code",
   "execution_count": null,
   "id": "f10ead91",
   "metadata": {},
   "outputs": [],
   "source": [
    "def new_func(afunc):\n",
    "    \n",
    "    def another_func():\n",
    "        print('before')\n",
    "        \n",
    "        afunc()\n",
    "        \n",
    "        print('after')\n",
    "        \n",
    "    return another_func"
   ]
  },
  {
   "cell_type": "code",
   "execution_count": null,
   "id": "d9762dcf",
   "metadata": {},
   "outputs": [],
   "source": [
    "def dec():\n",
    "    print('wassup my niggas')"
   ]
  },
  {
   "cell_type": "code",
   "execution_count": null,
   "id": "ed77d591",
   "metadata": {},
   "outputs": [],
   "source": [
    "ans = new_func(dec)"
   ]
  },
  {
   "cell_type": "code",
   "execution_count": null,
   "id": "84942f0e",
   "metadata": {},
   "outputs": [],
   "source": [
    "ans()"
   ]
  },
  {
   "cell_type": "code",
   "execution_count": null,
   "id": "1ebf9606",
   "metadata": {},
   "outputs": [],
   "source": [
    "@new_func\n",
    "def dec():\n",
    "    print('wassup my niggas')"
   ]
  },
  {
   "cell_type": "code",
   "execution_count": null,
   "id": "15e8be39",
   "metadata": {},
   "outputs": [],
   "source": [
    "dec()"
   ]
  },
  {
   "cell_type": "code",
   "execution_count": null,
   "id": "8f93b617",
   "metadata": {},
   "outputs": [],
   "source": [
    "l = int(input())\n",
    "ml = [int(x) for x in input().split()]\n",
    "res = 0\n",
    "for i in ml:\n",
    "    if(i > res):\n",
    "        res = i\n",
    "        \n",
    "        \n",
    "print(res)"
   ]
  },
  {
   "cell_type": "code",
   "execution_count": null,
   "id": "239caa1d",
   "metadata": {},
   "outputs": [],
   "source": [
    "l1 = 'hi wassup my nigga'\n",
    "l = l1.split('a')\n",
    "for i in l:\n",
    "    print(i,end = ' ')"
   ]
  },
  {
   "cell_type": "code",
   "execution_count": null,
   "id": "ff2402b0",
   "metadata": {},
   "outputs": [],
   "source": [
    "i = 0\n",
    "while i < 3:\n",
    "    print(i)\n",
    "    i+=1\n",
    "else:\n",
    "    print(0)"
   ]
  },
  {
   "cell_type": "code",
   "execution_count": null,
   "id": "fc198fdf",
   "metadata": {},
   "outputs": [],
   "source": [
    "d = {1,\"A\",2,\"B\"}"
   ]
  },
  {
   "cell_type": "code",
   "execution_count": null,
   "id": "555b318a",
   "metadata": {},
   "outputs": [],
   "source": [
    "d"
   ]
  },
  {
   "cell_type": "code",
   "execution_count": null,
   "id": "6cf54a8b",
   "metadata": {},
   "outputs": [],
   "source": [
    "def foo(i,x=[]):\n",
    "    x.append(x.append(i))\n",
    "    return x\n",
    "for i in range(3):\n",
    "    y = foo(i)\n",
    "print(y)"
   ]
  },
  {
   "cell_type": "code",
   "execution_count": null,
   "id": "43ced95f",
   "metadata": {},
   "outputs": [],
   "source": [
    "a,b = 1,0\n",
    "a = a^b\n",
    "b = a^b\n",
    "a = a^b\n",
    "print(a)"
   ]
  },
  {
   "cell_type": "code",
   "execution_count": null,
   "id": "a741f714",
   "metadata": {},
   "outputs": [],
   "source": [
    "t1 = (2,4,3)\n",
    "t3 = t1 * 2\n",
    "print(t3)"
   ]
  },
  {
   "cell_type": "code",
   "execution_count": null,
   "id": "9ff874a2",
   "metadata": {},
   "outputs": [],
   "source": [
    "numbers = {}\n",
    "letters = {}\n",
    "comb = {}\n",
    "numbers[1] = 56\n",
    "numbers[3] = 7\n",
    "letters[4] = 'B'\n",
    "comb['Numbers'] = numbers\n",
    "comb['Letters'] = letters\n",
    "print(comb)"
   ]
  },
  {
   "cell_type": "code",
   "execution_count": null,
   "id": "6e7ee27d",
   "metadata": {},
   "outputs": [],
   "source": [
    "l = 'RLRRLLRLRL'\n",
    "l2 = l.split('RL')\n",
    "print(len(l2))"
   ]
  },
  {
   "cell_type": "code",
   "execution_count": null,
   "id": "26e9045b",
   "metadata": {},
   "outputs": [],
   "source": [
    "st = 'RLRRLLRLRL'\n",
    "\n",
    "lc = 0\n",
    "rc = 0\n",
    "tc = 0\n",
    "for l in st:\n",
    "    if l == \"R\":\n",
    "        rc+=1\n",
    "    else:\n",
    "        lc+=1\n",
    "        \n",
    "    if lc == rc:\n",
    "        tc+=1\n",
    "        \n",
    "        \n",
    "print(tc)"
   ]
  },
  {
   "cell_type": "code",
   "execution_count": null,
   "id": "03710388",
   "metadata": {},
   "outputs": [],
   "source": [
    "str1 = input()\n",
    "\n",
    "t = \"\"\n",
    "\n",
    "for c in str1:\n",
    "    \n",
    "    if c in t:\n",
    "        t = t.replace(c,'')\n",
    "    else:\n",
    "        t +=c\n",
    "    \n",
    "    \n",
    "print(t)"
   ]
  },
  {
   "cell_type": "code",
   "execution_count": null,
   "id": "55a88bbd",
   "metadata": {},
   "outputs": [],
   "source": [
    "size = int(input())\n",
    "\n",
    "l1 = [int(x) for x in input().split()]\n",
    "\n",
    "l2 = []\n",
    "l3 = []\n",
    "\n",
    "for i,n in enumerate(l1):\n",
    "    if i % 2 == 0:\n",
    "        l2.append(n)\n",
    "        l2.sort()\n",
    "        \n",
    "c = 0        \n",
    "for num in range(0,size):\n",
    "    if num % 2 == 0:\n",
    "        l3.append(l2[int(c)])\n",
    "        c+=1\n",
    "    else:\n",
    "        l3.append(l1[num])\n",
    "        \n",
    "print(l3)"
   ]
  },
  {
   "cell_type": "code",
   "execution_count": null,
   "id": "431904cc",
   "metadata": {},
   "outputs": [],
   "source": [
    "def cube(n):\n",
    "    for x in n:\n",
    "        yield x**3"
   ]
  },
  {
   "cell_type": "code",
   "execution_count": null,
   "id": "31fbeff9",
   "metadata": {},
   "outputs": [],
   "source": [
    "l1 = [2,4,6,7]\n",
    "list(cube(l1))"
   ]
  },
  {
   "cell_type": "code",
   "execution_count": null,
   "id": "2d983f02",
   "metadata": {},
   "outputs": [],
   "source": [
    "for x in cube(l1):\n",
    "    print(x)"
   ]
  },
  {
   "cell_type": "code",
   "execution_count": null,
   "id": "f5e95f12",
   "metadata": {},
   "outputs": [],
   "source": [
    "def simpgen():\n",
    "    for x in range(3):\n",
    "        yield x"
   ]
  },
  {
   "cell_type": "code",
   "execution_count": null,
   "id": "0c21c000",
   "metadata": {},
   "outputs": [],
   "source": [
    "g1 = simpgen()"
   ]
  },
  {
   "cell_type": "code",
   "execution_count": null,
   "id": "0b06da7b",
   "metadata": {},
   "outputs": [],
   "source": [
    "print(next(g1))"
   ]
  },
  {
   "cell_type": "code",
   "execution_count": null,
   "id": "e03562ed",
   "metadata": {},
   "outputs": [],
   "source": [
    "print(next(g1))"
   ]
  },
  {
   "cell_type": "code",
   "execution_count": null,
   "id": "e16ae3cb",
   "metadata": {},
   "outputs": [],
   "source": [
    "print(next(g1))"
   ]
  },
  {
   "cell_type": "code",
   "execution_count": null,
   "id": "e643adfc",
   "metadata": {},
   "outputs": [],
   "source": [
    "print(next(g1))"
   ]
  },
  {
   "cell_type": "code",
   "execution_count": null,
   "id": "170dd344",
   "metadata": {},
   "outputs": [],
   "source": [
    "from collections import Counter"
   ]
  },
  {
   "cell_type": "code",
   "execution_count": null,
   "id": "b5175a4d",
   "metadata": {},
   "outputs": [],
   "source": [
    "l1 = [1,1,1,1,1,2,2,2,3,3,3]"
   ]
  },
  {
   "cell_type": "code",
   "execution_count": null,
   "id": "50069d81",
   "metadata": {},
   "outputs": [],
   "source": [
    "Counter(l1)"
   ]
  },
  {
   "cell_type": "code",
   "execution_count": null,
   "id": "a6716e9d",
   "metadata": {},
   "outputs": [],
   "source": [
    "l2 = [2,4,5,'abbbccd']"
   ]
  },
  {
   "cell_type": "code",
   "execution_count": null,
   "id": "5d13f1ea",
   "metadata": {},
   "outputs": [],
   "source": [
    "Counter(l2)"
   ]
  },
  {
   "cell_type": "code",
   "execution_count": null,
   "id": "f35b3acf",
   "metadata": {},
   "outputs": [],
   "source": [
    "c = Counter(l1)"
   ]
  },
  {
   "cell_type": "code",
   "execution_count": null,
   "id": "077f34fb",
   "metadata": {},
   "outputs": [],
   "source": [
    "c.most_common(2)"
   ]
  },
  {
   "cell_type": "code",
   "execution_count": null,
   "id": "a10d4234",
   "metadata": {},
   "outputs": [],
   "source": [
    "from collections import defaultdict"
   ]
  },
  {
   "cell_type": "code",
   "execution_count": null,
   "id": "2fe81e20",
   "metadata": {},
   "outputs": [],
   "source": [
    "d = defaultdict(lambda: 0)"
   ]
  },
  {
   "cell_type": "code",
   "execution_count": null,
   "id": "d80e5bed",
   "metadata": {},
   "outputs": [],
   "source": [
    "d['h']"
   ]
  },
  {
   "cell_type": "code",
   "execution_count": null,
   "id": "68a14faf",
   "metadata": {},
   "outputs": [],
   "source": [
    "from collections import namedtuple"
   ]
  },
  {
   "cell_type": "code",
   "execution_count": null,
   "id": "97e9fe2a",
   "metadata": {},
   "outputs": [],
   "source": [
    "Dog = namedtuple('Dog',['name','age','breed'])"
   ]
  },
  {
   "cell_type": "code",
   "execution_count": null,
   "id": "f8deefb3",
   "metadata": {},
   "outputs": [],
   "source": [
    "oliver = Dog('oliver',4,'lab')"
   ]
  },
  {
   "cell_type": "code",
   "execution_count": null,
   "id": "3e5a0cea",
   "metadata": {},
   "outputs": [],
   "source": [
    "oliver"
   ]
  },
  {
   "cell_type": "code",
   "execution_count": null,
   "id": "f5407dfb",
   "metadata": {},
   "outputs": [],
   "source": [
    "oliver.age"
   ]
  },
  {
   "cell_type": "code",
   "execution_count": null,
   "id": "7e8a244e",
   "metadata": {},
   "outputs": [],
   "source": [
    "oliver.breed"
   ]
  },
  {
   "cell_type": "code",
   "execution_count": 57,
   "id": "9a2f4cc3",
   "metadata": {},
   "outputs": [
    {
     "data": {
      "text/plain": [
       "'C:\\\\Users\\\\Tushaar\\\\Python live learning'"
      ]
     },
     "execution_count": 57,
     "metadata": {},
     "output_type": "execute_result"
    }
   ],
   "source": [
    "pwd"
   ]
  },
  {
   "cell_type": "code",
   "execution_count": 58,
   "id": "d1abccd6",
   "metadata": {},
   "outputs": [
    {
     "data": {
      "text/plain": [
       "'C:\\\\Users\\\\Tushaar\\\\Python live learning'"
      ]
     },
     "execution_count": 58,
     "metadata": {},
     "output_type": "execute_result"
    }
   ],
   "source": [
    "pwd"
   ]
  },
  {
   "cell_type": "code",
   "execution_count": 69,
   "id": "1d919010",
   "metadata": {},
   "outputs": [],
   "source": [
    "f = open('Test Fill','w+')\n",
    "f.write(\"This is a TestFile\")\n",
    "f.close()"
   ]
  },
  {
   "cell_type": "code",
   "execution_count": 70,
   "id": "324404f4",
   "metadata": {},
   "outputs": [],
   "source": [
    "import os"
   ]
  },
  {
   "cell_type": "code",
   "execution_count": 71,
   "id": "fb379cb6",
   "metadata": {},
   "outputs": [
    {
     "data": {
      "text/plain": [
       "'C:\\\\Users\\\\Tushaar\\\\Python live learning'"
      ]
     },
     "execution_count": 71,
     "metadata": {},
     "output_type": "execute_result"
    }
   ],
   "source": [
    "os.getcwd()"
   ]
  },
  {
   "cell_type": "code",
   "execution_count": 72,
   "id": "da5b62f5",
   "metadata": {},
   "outputs": [
    {
     "data": {
      "text/plain": [
       "['.ipynb_checkpoints',\n",
       " '.jovianrc',\n",
       " 'myfile.txt',\n",
       " 'Practice.ipynb',\n",
       " 'Test File',\n",
       " 'Test Fill',\n",
       " 'testfile']"
      ]
     },
     "execution_count": 72,
     "metadata": {},
     "output_type": "execute_result"
    }
   ],
   "source": [
    "os.listdir()"
   ]
  },
  {
   "cell_type": "code",
   "execution_count": 73,
   "id": "f8ec1b67",
   "metadata": {},
   "outputs": [
    {
     "ename": "SyntaxError",
     "evalue": "invalid syntax (<ipython-input-73-eb2f1d2163fd>, line 1)",
     "output_type": "error",
     "traceback": [
      "\u001b[1;36m  File \u001b[1;32m\"<ipython-input-73-eb2f1d2163fd>\"\u001b[1;36m, line \u001b[1;32m1\u001b[0m\n\u001b[1;33m    os.listdir(C:\\\\Users)\u001b[0m\n\u001b[1;37m                ^\u001b[0m\n\u001b[1;31mSyntaxError\u001b[0m\u001b[1;31m:\u001b[0m invalid syntax\n"
     ]
    }
   ],
   "source": [
    "os.listdir(C:\\\\Users)"
   ]
  },
  {
   "cell_type": "code",
   "execution_count": 74,
   "id": "fc39a131",
   "metadata": {},
   "outputs": [],
   "source": [
    "import shutil"
   ]
  },
  {
   "cell_type": "code",
   "execution_count": 75,
   "id": "7bda58fb",
   "metadata": {},
   "outputs": [
    {
     "data": {
      "text/plain": [
       "'C:\\\\Users\\\\Tushaar\\\\Test Fill'"
      ]
     },
     "execution_count": 75,
     "metadata": {},
     "output_type": "execute_result"
    }
   ],
   "source": [
    "shutil.move('Test Fill','C:\\\\Users\\\\Tushaar')"
   ]
  },
  {
   "cell_type": "code",
   "execution_count": 76,
   "id": "149b9d05",
   "metadata": {},
   "outputs": [
    {
     "data": {
      "text/plain": [
       "['.android',\n",
       " '.cache',\n",
       " '.conda',\n",
       " '.condarc',\n",
       " '.continuum',\n",
       " '.emulator_console_auth_token',\n",
       " '.gitconfig',\n",
       " '.gradle',\n",
       " '.ipynb_checkpoints',\n",
       " '.ipython',\n",
       " '.jovian',\n",
       " '.jupyter',\n",
       " '.tooling',\n",
       " '.vscode',\n",
       " '3D Objects',\n",
       " 'anaconda3',\n",
       " 'AndroidStudioProjects',\n",
       " 'AppData',\n",
       " 'Application Data',\n",
       " 'BullseyeCoverageError.txt',\n",
       " 'Contacts',\n",
       " 'Cookies',\n",
       " 'Desktop',\n",
       " 'Documents',\n",
       " 'Downloads',\n",
       " 'Favorites',\n",
       " 'fcc dsa.ipynb',\n",
       " 'IntelGraphicsProfiles',\n",
       " 'Links',\n",
       " 'Local Settings',\n",
       " 'MicrosoftEdgeBackups',\n",
       " 'Music',\n",
       " 'My Documents',\n",
       " 'MyMainPackage',\n",
       " 'mymodule.py',\n",
       " 'myprogram.py',\n",
       " 'NetHood',\n",
       " 'NTUSER.DAT',\n",
       " 'ntuser.dat.LOG1',\n",
       " 'ntuser.dat.LOG2',\n",
       " 'NTUSER.DAT{a733ce4a-94b6-11eb-873f-8f521cdb61d8}.TxR.0.regtrans-ms',\n",
       " 'NTUSER.DAT{a733ce4a-94b6-11eb-873f-8f521cdb61d8}.TxR.1.regtrans-ms',\n",
       " 'NTUSER.DAT{a733ce4a-94b6-11eb-873f-8f521cdb61d8}.TxR.2.regtrans-ms',\n",
       " 'NTUSER.DAT{a733ce4a-94b6-11eb-873f-8f521cdb61d8}.TxR.blf',\n",
       " 'NTUSER.DAT{a733ce4b-94b6-11eb-873f-8f521cdb61d8}.TM.blf',\n",
       " 'NTUSER.DAT{a733ce4b-94b6-11eb-873f-8f521cdb61d8}.TMContainer00000000000000000001.regtrans-ms',\n",
       " 'NTUSER.DAT{a733ce4b-94b6-11eb-873f-8f521cdb61d8}.TMContainer00000000000000000002.regtrans-ms',\n",
       " 'ntuser.ini',\n",
       " 'one.py',\n",
       " 'OneDrive',\n",
       " 'Pictures',\n",
       " 'PrintHood',\n",
       " 'Python live learning',\n",
       " 'python-problem-solving-template',\n",
       " 'python-problem-solving-template-1',\n",
       " 'Recent',\n",
       " 'Saved Games',\n",
       " 'Searches',\n",
       " 'SendTo',\n",
       " 'Start Menu',\n",
       " 'Templates',\n",
       " 'Test File',\n",
       " 'Test Fill',\n",
       " 'two.py',\n",
       " 'Videos',\n",
       " '__pycache__']"
      ]
     },
     "execution_count": 76,
     "metadata": {},
     "output_type": "execute_result"
    }
   ],
   "source": [
    "os.listdir('C:\\\\Users\\\\Tushaar')"
   ]
  },
  {
   "cell_type": "code",
   "execution_count": 77,
   "id": "55b0a80f",
   "metadata": {},
   "outputs": [
    {
     "data": {
      "text/plain": [
       "'C:\\\\Users\\\\Tushaar\\\\Python live learning'"
      ]
     },
     "execution_count": 77,
     "metadata": {},
     "output_type": "execute_result"
    }
   ],
   "source": [
    "os.getcwd()"
   ]
  },
  {
   "cell_type": "code",
   "execution_count": 80,
   "id": "f7d0faff",
   "metadata": {},
   "outputs": [
    {
     "data": {
      "text/plain": [
       "'C:\\\\Users\\\\Tushaar\\\\Python live learning\\\\Test Fill'"
      ]
     },
     "execution_count": 80,
     "metadata": {},
     "output_type": "execute_result"
    }
   ],
   "source": [
    "shutil.move('C:\\\\Users\\\\Tushaar\\\\Test Fill',os.getcwd())"
   ]
  },
  {
   "cell_type": "code",
   "execution_count": 81,
   "id": "0c9492e3",
   "metadata": {},
   "outputs": [],
   "source": [
    "import send2trash"
   ]
  },
  {
   "cell_type": "code",
   "execution_count": 82,
   "id": "aa67b485",
   "metadata": {},
   "outputs": [],
   "source": [
    "send2trash.send2trash('Test Fill')"
   ]
  },
  {
   "cell_type": "code",
   "execution_count": 85,
   "id": "4f629ebe",
   "metadata": {},
   "outputs": [
    {
     "data": {
      "text/plain": [
       "['.ipynb_checkpoints',\n",
       " '.jovianrc',\n",
       " 'myfile.txt',\n",
       " 'Practice.ipynb',\n",
       " 'Test File',\n",
       " 'testfile']"
      ]
     },
     "execution_count": 85,
     "metadata": {},
     "output_type": "execute_result"
    }
   ],
   "source": [
    "os.listdir()"
   ]
  },
  {
   "cell_type": "code",
   "execution_count": 94,
   "id": "d011f730",
   "metadata": {},
   "outputs": [
    {
     "data": {
      "text/plain": [
       "'C:\\\\Users\\\\Tushaar\\\\Python live learning'"
      ]
     },
     "execution_count": 94,
     "metadata": {},
     "output_type": "execute_result"
    }
   ],
   "source": [
    "os.getcwd()"
   ]
  },
  {
   "cell_type": "code",
   "execution_count": 95,
   "id": "d3ab1733",
   "metadata": {},
   "outputs": [
    {
     "name": "stdout",
     "output_type": "stream",
     "text": [
      "current folder: C:\\Users\\Tushaar\\Python live learning\n",
      "\n",
      "\n",
      "\t Subfolders :.ipynb_checkpoints\n",
      "\n",
      "\n",
      "Files: \n",
      "\t file: .jovianrc\n",
      "\t file: myfile.txt\n",
      "\t file: Practice.ipynb\n",
      "\t file: Test File\n",
      "\t file: testfile\n",
      "\n",
      "\n",
      "current folder: C:\\Users\\Tushaar\\Python live learning\\.ipynb_checkpoints\n",
      "\n",
      "\n",
      "\n",
      "\n",
      "Files: \n",
      "\t file: Practice-checkpoint.ipynb\n",
      "\n",
      "\n"
     ]
    }
   ],
   "source": [
    "filepath = 'C:\\\\Users\\\\Tushaar\\\\Python live learning'\n",
    "for folder,sub_folders,files in os.walk(filepath):\n",
    "    print('current folder: ' + folder)\n",
    "    print('\\n')\n",
    "    \n",
    "    for s in sub_folders:\n",
    "        print('\\t Subfolders :' + s)\n",
    "        \n",
    "    print('\\n')\n",
    "    print(\"Files: \") \n",
    "    for f in files:\n",
    "        print('\\t file: ' + f)\n",
    "        \n",
    "    print('\\n')"
   ]
  },
  {
   "cell_type": "code",
   "execution_count": 100,
   "id": "fd51f4ca",
   "metadata": {},
   "outputs": [],
   "source": [
    "import datetime"
   ]
  },
  {
   "cell_type": "code",
   "execution_count": 111,
   "id": "da29d22d",
   "metadata": {},
   "outputs": [],
   "source": [
    "mytime = datetime.time(3,30,2,20)"
   ]
  },
  {
   "cell_type": "code",
   "execution_count": 112,
   "id": "01474831",
   "metadata": {},
   "outputs": [
    {
     "data": {
      "text/plain": [
       "3"
      ]
     },
     "execution_count": 112,
     "metadata": {},
     "output_type": "execute_result"
    }
   ],
   "source": [
    "mytime.hour"
   ]
  },
  {
   "cell_type": "code",
   "execution_count": 113,
   "id": "cd4bd8ca",
   "metadata": {},
   "outputs": [
    {
     "data": {
      "text/plain": [
       "30"
      ]
     },
     "execution_count": 113,
     "metadata": {},
     "output_type": "execute_result"
    }
   ],
   "source": [
    "mytime.minute"
   ]
  },
  {
   "cell_type": "code",
   "execution_count": 114,
   "id": "7eb249b5",
   "metadata": {},
   "outputs": [
    {
     "data": {
      "text/plain": [
       "datetime.time(3, 30, 2, 20)"
      ]
     },
     "execution_count": 114,
     "metadata": {},
     "output_type": "execute_result"
    }
   ],
   "source": [
    "mytime"
   ]
  },
  {
   "cell_type": "code",
   "execution_count": 115,
   "id": "c71fab67",
   "metadata": {},
   "outputs": [
    {
     "name": "stdout",
     "output_type": "stream",
     "text": [
      "03:30:02.000020\n"
     ]
    }
   ],
   "source": [
    "print(mytime)"
   ]
  },
  {
   "cell_type": "code",
   "execution_count": 116,
   "id": "fa19bafc",
   "metadata": {},
   "outputs": [
    {
     "data": {
      "text/plain": [
       "20"
      ]
     },
     "execution_count": 116,
     "metadata": {},
     "output_type": "execute_result"
    }
   ],
   "source": [
    "mytime.microsecond"
   ]
  },
  {
   "cell_type": "code",
   "execution_count": 117,
   "id": "0ed2f1b6",
   "metadata": {},
   "outputs": [
    {
     "data": {
      "text/plain": [
       "datetime.time"
      ]
     },
     "execution_count": 117,
     "metadata": {},
     "output_type": "execute_result"
    }
   ],
   "source": [
    "type(mytime)"
   ]
  },
  {
   "cell_type": "code",
   "execution_count": 118,
   "id": "cfe23ea6",
   "metadata": {},
   "outputs": [],
   "source": [
    "today = datetime.date.today()"
   ]
  },
  {
   "cell_type": "code",
   "execution_count": 119,
   "id": "5cdfbc3d",
   "metadata": {},
   "outputs": [
    {
     "name": "stdout",
     "output_type": "stream",
     "text": [
      "2021-10-02\n"
     ]
    }
   ],
   "source": [
    "print(today)"
   ]
  },
  {
   "cell_type": "code",
   "execution_count": 120,
   "id": "35f85452",
   "metadata": {},
   "outputs": [
    {
     "data": {
      "text/plain": [
       "2021"
      ]
     },
     "execution_count": 120,
     "metadata": {},
     "output_type": "execute_result"
    }
   ],
   "source": [
    "today.year"
   ]
  },
  {
   "cell_type": "code",
   "execution_count": 121,
   "id": "035ac73f",
   "metadata": {},
   "outputs": [
    {
     "data": {
      "text/plain": [
       "10"
      ]
     },
     "execution_count": 121,
     "metadata": {},
     "output_type": "execute_result"
    }
   ],
   "source": [
    "today.month"
   ]
  },
  {
   "cell_type": "code",
   "execution_count": 122,
   "id": "201157de",
   "metadata": {},
   "outputs": [
    {
     "data": {
      "text/plain": [
       "2"
      ]
     },
     "execution_count": 122,
     "metadata": {},
     "output_type": "execute_result"
    }
   ],
   "source": [
    "today.day"
   ]
  },
  {
   "cell_type": "code",
   "execution_count": 124,
   "id": "970b2724",
   "metadata": {},
   "outputs": [
    {
     "data": {
      "text/plain": [
       "'Sat Oct  2 00:00:00 2021'"
      ]
     },
     "execution_count": 124,
     "metadata": {},
     "output_type": "execute_result"
    }
   ],
   "source": [
    "today.ctime()"
   ]
  },
  {
   "cell_type": "code",
   "execution_count": 125,
   "id": "51553dd9",
   "metadata": {},
   "outputs": [],
   "source": [
    "from datetime import datetime"
   ]
  },
  {
   "cell_type": "code",
   "execution_count": 126,
   "id": "289767ba",
   "metadata": {},
   "outputs": [],
   "source": [
    "mydatetime = datetime(2021,10,2,15,15,15)"
   ]
  },
  {
   "cell_type": "code",
   "execution_count": 127,
   "id": "9a12fde2",
   "metadata": {},
   "outputs": [
    {
     "name": "stdout",
     "output_type": "stream",
     "text": [
      "2021-10-02 15:15:15\n"
     ]
    }
   ],
   "source": [
    "print(mydatetime)"
   ]
  },
  {
   "cell_type": "code",
   "execution_count": 131,
   "id": "cbaff095",
   "metadata": {},
   "outputs": [],
   "source": [
    "mydatetime = mydatetime.replace(year = 2022)"
   ]
  },
  {
   "cell_type": "code",
   "execution_count": 132,
   "id": "0281d1aa",
   "metadata": {},
   "outputs": [
    {
     "name": "stdout",
     "output_type": "stream",
     "text": [
      "2022-10-02 15:15:15\n"
     ]
    }
   ],
   "source": [
    "print(mydatetime)"
   ]
  },
  {
   "cell_type": "code",
   "execution_count": 133,
   "id": "44abc65b",
   "metadata": {},
   "outputs": [],
   "source": [
    "from datetime import date"
   ]
  },
  {
   "cell_type": "code",
   "execution_count": 134,
   "id": "ce53fe48",
   "metadata": {},
   "outputs": [],
   "source": [
    "date1 = date(2021,10,3)\n",
    "date2 = date(2022,11,4)"
   ]
  },
  {
   "cell_type": "code",
   "execution_count": 136,
   "id": "36485377",
   "metadata": {},
   "outputs": [],
   "source": [
    "result = date1 - date2"
   ]
  },
  {
   "cell_type": "code",
   "execution_count": 139,
   "id": "a2084424",
   "metadata": {},
   "outputs": [
    {
     "data": {
      "text/plain": [
       "-397"
      ]
     },
     "execution_count": 139,
     "metadata": {},
     "output_type": "execute_result"
    }
   ],
   "source": [
    "result.days"
   ]
  },
  {
   "cell_type": "code",
   "execution_count": 140,
   "id": "81626a58",
   "metadata": {},
   "outputs": [
    {
     "data": {
      "text/plain": [
       "datetime.timedelta(days=397)"
      ]
     },
     "execution_count": 140,
     "metadata": {},
     "output_type": "execute_result"
    }
   ],
   "source": [
    "date2 - date1"
   ]
  },
  {
   "cell_type": "code",
   "execution_count": 141,
   "id": "f714378d",
   "metadata": {},
   "outputs": [
    {
     "data": {
      "text/plain": [
       "datetime.timedelta(days=-397)"
      ]
     },
     "execution_count": 141,
     "metadata": {},
     "output_type": "execute_result"
    }
   ],
   "source": [
    "date1 - date2"
   ]
  },
  {
   "cell_type": "code",
   "execution_count": 142,
   "id": "064334a7",
   "metadata": {},
   "outputs": [],
   "source": [
    "d1 = datetime(2022,9,10,23,0)"
   ]
  },
  {
   "cell_type": "code",
   "execution_count": 160,
   "id": "03d9c761",
   "metadata": {},
   "outputs": [],
   "source": [
    "d2 =datetime(2021,9,10,18,0)"
   ]
  },
  {
   "cell_type": "code",
   "execution_count": 161,
   "id": "a997b96f",
   "metadata": {},
   "outputs": [
    {
     "data": {
      "text/plain": [
       "datetime.timedelta(days=365)"
      ]
     },
     "execution_count": 161,
     "metadata": {},
     "output_type": "execute_result"
    }
   ],
   "source": [
    "d1 - d2"
   ]
  },
  {
   "cell_type": "code",
   "execution_count": 168,
   "id": "c7b58cf5",
   "metadata": {},
   "outputs": [
    {
     "data": {
      "text/plain": [
       "datetime.timedelta(days=365)"
      ]
     },
     "execution_count": 168,
     "metadata": {},
     "output_type": "execute_result"
    }
   ],
   "source": [
    "d1 - d2"
   ]
  },
  {
   "cell_type": "code",
   "execution_count": 162,
   "id": "761be5c6",
   "metadata": {},
   "outputs": [],
   "source": [
    "r = d1 - d2"
   ]
  },
  {
   "cell_type": "code",
   "execution_count": 163,
   "id": "6e8000e6",
   "metadata": {},
   "outputs": [
    {
     "data": {
      "text/plain": [
       "365"
      ]
     },
     "execution_count": 163,
     "metadata": {},
     "output_type": "execute_result"
    }
   ],
   "source": [
    "r.days"
   ]
  },
  {
   "cell_type": "code",
   "execution_count": 164,
   "id": "27a75121",
   "metadata": {},
   "outputs": [
    {
     "data": {
      "text/plain": [
       "0"
      ]
     },
     "execution_count": 164,
     "metadata": {},
     "output_type": "execute_result"
    }
   ],
   "source": [
    "r.seconds"
   ]
  },
  {
   "cell_type": "code",
   "execution_count": 165,
   "id": "3f3ea93a",
   "metadata": {},
   "outputs": [
    {
     "data": {
      "text/plain": [
       "31536000.0"
      ]
     },
     "execution_count": 165,
     "metadata": {},
     "output_type": "execute_result"
    }
   ],
   "source": [
    "r.total_seconds()"
   ]
  },
  {
   "cell_type": "code",
   "execution_count": 169,
   "id": "65cc9fdd",
   "metadata": {},
   "outputs": [],
   "source": [
    "import math"
   ]
  },
  {
   "cell_type": "code",
   "execution_count": 171,
   "id": "16a14020",
   "metadata": {},
   "outputs": [],
   "source": [
    "# help(math)"
   ]
  },
  {
   "cell_type": "code",
   "execution_count": 172,
   "id": "42003da3",
   "metadata": {},
   "outputs": [],
   "source": [
    "v = 4.3"
   ]
  },
  {
   "cell_type": "code",
   "execution_count": 173,
   "id": "b629a1f7",
   "metadata": {},
   "outputs": [
    {
     "data": {
      "text/plain": [
       "4"
      ]
     },
     "execution_count": 173,
     "metadata": {},
     "output_type": "execute_result"
    }
   ],
   "source": [
    "math.floor(v)"
   ]
  },
  {
   "cell_type": "code",
   "execution_count": 174,
   "id": "872e408a",
   "metadata": {},
   "outputs": [
    {
     "data": {
      "text/plain": [
       "5"
      ]
     },
     "execution_count": 174,
     "metadata": {},
     "output_type": "execute_result"
    }
   ],
   "source": [
    "math.ceil(v)"
   ]
  },
  {
   "cell_type": "code",
   "execution_count": 176,
   "id": "f437482d",
   "metadata": {},
   "outputs": [
    {
     "data": {
      "text/plain": [
       "4"
      ]
     },
     "execution_count": 176,
     "metadata": {},
     "output_type": "execute_result"
    }
   ],
   "source": [
    "round(4.5)"
   ]
  },
  {
   "cell_type": "code",
   "execution_count": 177,
   "id": "fa2d61f1",
   "metadata": {},
   "outputs": [
    {
     "data": {
      "text/plain": [
       "6"
      ]
     },
     "execution_count": 177,
     "metadata": {},
     "output_type": "execute_result"
    }
   ],
   "source": [
    "round(5.5)"
   ]
  },
  {
   "cell_type": "code",
   "execution_count": 178,
   "id": "7bed77d6",
   "metadata": {},
   "outputs": [
    {
     "data": {
      "text/plain": [
       "3.141592653589793"
      ]
     },
     "execution_count": 178,
     "metadata": {},
     "output_type": "execute_result"
    }
   ],
   "source": [
    "math.pi"
   ]
  },
  {
   "cell_type": "code",
   "execution_count": 179,
   "id": "6b29f60f",
   "metadata": {},
   "outputs": [],
   "source": [
    "from math import pi"
   ]
  },
  {
   "cell_type": "code",
   "execution_count": 180,
   "id": "60cff511",
   "metadata": {},
   "outputs": [
    {
     "data": {
      "text/plain": [
       "3.141592653589793"
      ]
     },
     "execution_count": 180,
     "metadata": {},
     "output_type": "execute_result"
    }
   ],
   "source": [
    "pi"
   ]
  },
  {
   "cell_type": "code",
   "execution_count": 181,
   "id": "0cad9c20",
   "metadata": {},
   "outputs": [
    {
     "data": {
      "text/plain": [
       "2.718281828459045"
      ]
     },
     "execution_count": 181,
     "metadata": {},
     "output_type": "execute_result"
    }
   ],
   "source": [
    "math.e"
   ]
  },
  {
   "cell_type": "code",
   "execution_count": 182,
   "id": "4cbb1af9",
   "metadata": {},
   "outputs": [
    {
     "data": {
      "text/plain": [
       "inf"
      ]
     },
     "execution_count": 182,
     "metadata": {},
     "output_type": "execute_result"
    }
   ],
   "source": [
    "math.inf"
   ]
  },
  {
   "cell_type": "code",
   "execution_count": 183,
   "id": "3c0cf2a9",
   "metadata": {},
   "outputs": [
    {
     "data": {
      "text/plain": [
       "nan"
      ]
     },
     "execution_count": 183,
     "metadata": {},
     "output_type": "execute_result"
    }
   ],
   "source": [
    "math.nan"
   ]
  },
  {
   "cell_type": "code",
   "execution_count": 184,
   "id": "63b06d7e",
   "metadata": {},
   "outputs": [
    {
     "data": {
      "text/plain": [
       "1.0"
      ]
     },
     "execution_count": 184,
     "metadata": {},
     "output_type": "execute_result"
    }
   ],
   "source": [
    " math.log(math.e)"
   ]
  },
  {
   "cell_type": "code",
   "execution_count": 187,
   "id": "f7684fcc",
   "metadata": {},
   "outputs": [
    {
     "data": {
      "text/plain": [
       "0.0"
      ]
     },
     "execution_count": 187,
     "metadata": {},
     "output_type": "execute_result"
    }
   ],
   "source": [
    "math.sin(0)"
   ]
  },
  {
   "cell_type": "code",
   "execution_count": 188,
   "id": "4655e047",
   "metadata": {},
   "outputs": [
    {
     "data": {
      "text/plain": [
       "90.0"
      ]
     },
     "execution_count": 188,
     "metadata": {},
     "output_type": "execute_result"
    }
   ],
   "source": [
    "math.degrees(pi/2)"
   ]
  },
  {
   "cell_type": "code",
   "execution_count": 189,
   "id": "bbf02ec8",
   "metadata": {},
   "outputs": [
    {
     "data": {
      "text/plain": [
       "1.5707963267948966"
      ]
     },
     "execution_count": 189,
     "metadata": {},
     "output_type": "execute_result"
    }
   ],
   "source": [
    "math.radians(90)"
   ]
  },
  {
   "cell_type": "code",
   "execution_count": 190,
   "id": "fb9a8834",
   "metadata": {},
   "outputs": [],
   "source": [
    "import random"
   ]
  },
  {
   "cell_type": "code",
   "execution_count": 196,
   "id": "05de1c1a",
   "metadata": {},
   "outputs": [
    {
     "data": {
      "text/plain": [
       "58"
      ]
     },
     "execution_count": 196,
     "metadata": {},
     "output_type": "execute_result"
    }
   ],
   "source": [
    "random.seed(40)\n",
    "\n",
    "random.randint(0,100)"
   ]
  },
  {
   "cell_type": "code",
   "execution_count": 197,
   "id": "fe318fb1",
   "metadata": {},
   "outputs": [
    {
     "data": {
      "text/plain": [
       "74"
      ]
     },
     "execution_count": 197,
     "metadata": {},
     "output_type": "execute_result"
    }
   ],
   "source": [
    "random.randint(0,100)"
   ]
  },
  {
   "cell_type": "code",
   "execution_count": 198,
   "id": "887d7322",
   "metadata": {},
   "outputs": [
    {
     "data": {
      "text/plain": [
       "67"
      ]
     },
     "execution_count": 198,
     "metadata": {},
     "output_type": "execute_result"
    }
   ],
   "source": [
    "random.randint(0,100)"
   ]
  },
  {
   "cell_type": "code",
   "execution_count": 199,
   "id": "1e71d9ce",
   "metadata": {},
   "outputs": [
    {
     "data": {
      "text/plain": [
       "4"
      ]
     },
     "execution_count": 199,
     "metadata": {},
     "output_type": "execute_result"
    }
   ],
   "source": [
    "random.randint(0,100)"
   ]
  },
  {
   "cell_type": "code",
   "execution_count": 202,
   "id": "44e06190",
   "metadata": {},
   "outputs": [
    {
     "name": "stdout",
     "output_type": "stream",
     "text": [
      "58\n",
      "74\n",
      "67\n",
      "4\n",
      "31\n",
      "36\n"
     ]
    }
   ],
   "source": [
    "random.seed(40)\n",
    "\n",
    "print(random.randint(0,100))\n",
    "print(random.randint(0,100))\n",
    "print(random.randint(0,100))\n",
    "print(random.randint(0,100))\n",
    "print(random.randint(0,100))\n",
    "print(random.randint(0,100))"
   ]
  },
  {
   "cell_type": "code",
   "execution_count": 203,
   "id": "bc0b038f",
   "metadata": {},
   "outputs": [],
   "source": [
    "l1 = [1,2,3,4,5,6,7,8,9,10,11,12,13,14,15]"
   ]
  },
  {
   "cell_type": "code",
   "execution_count": 204,
   "id": "2f8e9899",
   "metadata": {},
   "outputs": [
    {
     "data": {
      "text/plain": [
       "[10, 10, 4, 12, 5, 12, 13, 8, 12, 1]"
      ]
     },
     "execution_count": 204,
     "metadata": {},
     "output_type": "execute_result"
    }
   ],
   "source": [
    "random.choices(population=l1,k = 10)"
   ]
  },
  {
   "cell_type": "code",
   "execution_count": 205,
   "id": "855d4a6d",
   "metadata": {},
   "outputs": [
    {
     "data": {
      "text/plain": [
       "[4, 10, 12, 8, 1, 3, 6, 2, 14, 7]"
      ]
     },
     "execution_count": 205,
     "metadata": {},
     "output_type": "execute_result"
    }
   ],
   "source": [
    "random.sample(population=l1,k = 10)"
   ]
  },
  {
   "cell_type": "code",
   "execution_count": 206,
   "id": "a508db85",
   "metadata": {},
   "outputs": [
    {
     "data": {
      "text/plain": [
       "14.480662928012233"
      ]
     },
     "execution_count": 206,
     "metadata": {},
     "output_type": "execute_result"
    }
   ],
   "source": [
    "random.uniform(0,100)"
   ]
  },
  {
   "cell_type": "code",
   "execution_count": 207,
   "id": "bc5a93c5",
   "metadata": {},
   "outputs": [
    {
     "data": {
      "text/plain": [
       "-1.8843939903728253"
      ]
     },
     "execution_count": 207,
     "metadata": {},
     "output_type": "execute_result"
    }
   ],
   "source": [
    "random.gauss(0,1)"
   ]
  },
  {
   "cell_type": "code",
   "execution_count": 209,
   "id": "17c052e6",
   "metadata": {},
   "outputs": [
    {
     "name": "stdout",
     "output_type": "stream",
     "text": [
      "11.6\n",
      "--Return--\n",
      "None\n",
      "> \u001b[1;32m<ipython-input-209-12e9833d704e>\u001b[0m(7)\u001b[0;36m<module>\u001b[1;34m()\u001b[0m\n",
      "\u001b[1;32m      5 \u001b[1;33m\u001b[0mprint\u001b[0m\u001b[1;33m(\u001b[0m\u001b[0mx\u001b[0m\u001b[1;33m+\u001b[0m\u001b[0my\u001b[0m\u001b[1;33m)\u001b[0m\u001b[1;33m\u001b[0m\u001b[1;33m\u001b[0m\u001b[0m\n",
      "\u001b[0m\u001b[1;32m      6 \u001b[1;33m\u001b[1;33m\u001b[0m\u001b[0m\n",
      "\u001b[0m\u001b[1;32m----> 7 \u001b[1;33m\u001b[0mpdb\u001b[0m\u001b[1;33m.\u001b[0m\u001b[0mset_trace\u001b[0m\u001b[1;33m(\u001b[0m\u001b[1;33m)\u001b[0m\u001b[1;33m\u001b[0m\u001b[1;33m\u001b[0m\u001b[0m\n",
      "\u001b[0m\u001b[1;32m      8 \u001b[1;33m\u001b[1;33m\u001b[0m\u001b[0m\n",
      "\u001b[0m\u001b[1;32m      9 \u001b[1;33m\u001b[0mprint\u001b[0m\u001b[1;33m(\u001b[0m\u001b[0mx\u001b[0m \u001b[1;33m+\u001b[0m \u001b[0mz\u001b[0m\u001b[1;33m)\u001b[0m\u001b[1;33m\u001b[0m\u001b[1;33m\u001b[0m\u001b[0m\n",
      "\u001b[0m\n",
      "ipdb> x\n",
      "5\n",
      "ipdb> z\n",
      "'hi'\n",
      "ipdb> \n",
      "'hi'\n",
      "ipdb> q\n"
     ]
    },
    {
     "ename": "BdbQuit",
     "evalue": "",
     "output_type": "error",
     "traceback": [
      "\u001b[1;31m---------------------------------------------------------------------------\u001b[0m",
      "\u001b[1;31mBdbQuit\u001b[0m                                   Traceback (most recent call last)",
      "\u001b[1;32m<ipython-input-209-12e9833d704e>\u001b[0m in \u001b[0;36m<module>\u001b[1;34m\u001b[0m\n\u001b[0;32m      5\u001b[0m \u001b[0mprint\u001b[0m\u001b[1;33m(\u001b[0m\u001b[0mx\u001b[0m\u001b[1;33m+\u001b[0m\u001b[0my\u001b[0m\u001b[1;33m)\u001b[0m\u001b[1;33m\u001b[0m\u001b[1;33m\u001b[0m\u001b[0m\n\u001b[0;32m      6\u001b[0m \u001b[1;33m\u001b[0m\u001b[0m\n\u001b[1;32m----> 7\u001b[1;33m \u001b[0mpdb\u001b[0m\u001b[1;33m.\u001b[0m\u001b[0mset_trace\u001b[0m\u001b[1;33m(\u001b[0m\u001b[1;33m)\u001b[0m\u001b[1;33m\u001b[0m\u001b[1;33m\u001b[0m\u001b[0m\n\u001b[0m\u001b[0;32m      8\u001b[0m \u001b[1;33m\u001b[0m\u001b[0m\n\u001b[0;32m      9\u001b[0m \u001b[0mprint\u001b[0m\u001b[1;33m(\u001b[0m\u001b[0mx\u001b[0m \u001b[1;33m+\u001b[0m \u001b[0mz\u001b[0m\u001b[1;33m)\u001b[0m\u001b[1;33m\u001b[0m\u001b[1;33m\u001b[0m\u001b[0m\n",
      "\u001b[1;32m~\\anaconda3\\lib\\bdb.py\u001b[0m in \u001b[0;36mtrace_dispatch\u001b[1;34m(self, frame, event, arg)\u001b[0m\n\u001b[0;32m     90\u001b[0m             \u001b[1;32mreturn\u001b[0m \u001b[0mself\u001b[0m\u001b[1;33m.\u001b[0m\u001b[0mdispatch_call\u001b[0m\u001b[1;33m(\u001b[0m\u001b[0mframe\u001b[0m\u001b[1;33m,\u001b[0m \u001b[0marg\u001b[0m\u001b[1;33m)\u001b[0m\u001b[1;33m\u001b[0m\u001b[1;33m\u001b[0m\u001b[0m\n\u001b[0;32m     91\u001b[0m         \u001b[1;32mif\u001b[0m \u001b[0mevent\u001b[0m \u001b[1;33m==\u001b[0m \u001b[1;34m'return'\u001b[0m\u001b[1;33m:\u001b[0m\u001b[1;33m\u001b[0m\u001b[1;33m\u001b[0m\u001b[0m\n\u001b[1;32m---> 92\u001b[1;33m             \u001b[1;32mreturn\u001b[0m \u001b[0mself\u001b[0m\u001b[1;33m.\u001b[0m\u001b[0mdispatch_return\u001b[0m\u001b[1;33m(\u001b[0m\u001b[0mframe\u001b[0m\u001b[1;33m,\u001b[0m \u001b[0marg\u001b[0m\u001b[1;33m)\u001b[0m\u001b[1;33m\u001b[0m\u001b[1;33m\u001b[0m\u001b[0m\n\u001b[0m\u001b[0;32m     93\u001b[0m         \u001b[1;32mif\u001b[0m \u001b[0mevent\u001b[0m \u001b[1;33m==\u001b[0m \u001b[1;34m'exception'\u001b[0m\u001b[1;33m:\u001b[0m\u001b[1;33m\u001b[0m\u001b[1;33m\u001b[0m\u001b[0m\n\u001b[0;32m     94\u001b[0m             \u001b[1;32mreturn\u001b[0m \u001b[0mself\u001b[0m\u001b[1;33m.\u001b[0m\u001b[0mdispatch_exception\u001b[0m\u001b[1;33m(\u001b[0m\u001b[0mframe\u001b[0m\u001b[1;33m,\u001b[0m \u001b[0marg\u001b[0m\u001b[1;33m)\u001b[0m\u001b[1;33m\u001b[0m\u001b[1;33m\u001b[0m\u001b[0m\n",
      "\u001b[1;32m~\\anaconda3\\lib\\bdb.py\u001b[0m in \u001b[0;36mdispatch_return\u001b[1;34m(self, frame, arg)\u001b[0m\n\u001b[0;32m    152\u001b[0m             \u001b[1;32mfinally\u001b[0m\u001b[1;33m:\u001b[0m\u001b[1;33m\u001b[0m\u001b[1;33m\u001b[0m\u001b[0m\n\u001b[0;32m    153\u001b[0m                 \u001b[0mself\u001b[0m\u001b[1;33m.\u001b[0m\u001b[0mframe_returning\u001b[0m \u001b[1;33m=\u001b[0m \u001b[1;32mNone\u001b[0m\u001b[1;33m\u001b[0m\u001b[1;33m\u001b[0m\u001b[0m\n\u001b[1;32m--> 154\u001b[1;33m             \u001b[1;32mif\u001b[0m \u001b[0mself\u001b[0m\u001b[1;33m.\u001b[0m\u001b[0mquitting\u001b[0m\u001b[1;33m:\u001b[0m \u001b[1;32mraise\u001b[0m \u001b[0mBdbQuit\u001b[0m\u001b[1;33m\u001b[0m\u001b[1;33m\u001b[0m\u001b[0m\n\u001b[0m\u001b[0;32m    155\u001b[0m             \u001b[1;31m# The user issued a 'next' or 'until' command.\u001b[0m\u001b[1;33m\u001b[0m\u001b[1;33m\u001b[0m\u001b[1;33m\u001b[0m\u001b[0m\n\u001b[0;32m    156\u001b[0m             \u001b[1;32mif\u001b[0m \u001b[0mself\u001b[0m\u001b[1;33m.\u001b[0m\u001b[0mstopframe\u001b[0m \u001b[1;32mis\u001b[0m \u001b[0mframe\u001b[0m \u001b[1;32mand\u001b[0m \u001b[0mself\u001b[0m\u001b[1;33m.\u001b[0m\u001b[0mstoplineno\u001b[0m \u001b[1;33m!=\u001b[0m \u001b[1;33m-\u001b[0m\u001b[1;36m1\u001b[0m\u001b[1;33m:\u001b[0m\u001b[1;33m\u001b[0m\u001b[1;33m\u001b[0m\u001b[0m\n",
      "\u001b[1;31mBdbQuit\u001b[0m: "
     ]
    }
   ],
   "source": [
    "import pdb\n",
    "x= 5\n",
    "y = 6.6\n",
    "z = 'hi'\n",
    "print(x+y)\n",
    "\n",
    "pdb.set_trace()\n",
    "\n",
    "print(x + z)"
   ]
  },
  {
   "cell_type": "code",
   "execution_count": 1,
   "id": "45a714c7",
   "metadata": {},
   "outputs": [],
   "source": [
    "%matplotlib inline\n",
    "import matplotlib.pyplot as plt\n",
    "import numpy as np"
   ]
  },
  {
   "cell_type": "code",
   "execution_count": 12,
   "id": "e99da69e",
   "metadata": {},
   "outputs": [
    {
     "data": {
      "image/png": "[encoded data removed]",
      "text/plain": [
       "<Figure size 432x288 with 1 Axes>"
      ]
     },
     "metadata": {
      "needs_background": "light"
     },
     "output_type": "display_data"
    }
   ],
   "source": [
    "n = np.linspace(1,5)\n",
    "plt.plot(n,n,label = 'n')\n",
    "plt.plot(n,np.log(n),label = 'log(n)')\n",
    "plt.plot(n,n**2,label = 'n^2')\n",
    "plt.plot(n,n*np.log(n),label = 'nlog(n)')\n",
    "plt.plot(n,2**n,label = '2^n')\n",
    "plt.legend(loc = 'upper left')\n",
    "plt.show()"
   ]
  },
  {
   "cell_type": "code",
   "execution_count": null,
   "id": "4c69e554",
   "metadata": {},
   "outputs": [],
   "source": []
  }
 ],
 "metadata": {
  "kernelspec": {
   "display_name": "Python 3",
   "language": "python",
   "name": "python3"
  },
  "language_info": {
   "codemirror_mode": {
    "name": "ipython",
    "version": 3
   },
   "file_extension": ".py",
   "mimetype": "text/x-python",
   "name": "python",
   "nbconvert_exporter": "python",
   "pygments_lexer": "ipython3",
   "version": "3.8.8"
  }
 },
 "nbformat": 4,
 "nbformat_minor": 5
}
